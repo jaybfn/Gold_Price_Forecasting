{
 "cells": [
  {
   "cell_type": "code",
   "execution_count": null,
   "metadata": {},
   "outputs": [],
   "source": [
    "# calling all the required library for some basic EDA\n",
    "import pandas as pd\n",
    "import numpy as np\n",
    "import matplotlib.pyplot as plt\n",
    "import seaborn as sns\n",
    "import scipy.stats\n",
    "import pylab\n"
   ]
  },
  {
   "cell_type": "markdown",
   "metadata": {},
   "source": [
    "### loading the dataset"
   ]
  },
  {
   "cell_type": "code",
   "execution_count": null,
   "metadata": {},
   "outputs": [],
   "source": [
    "# loading the dataset:\n",
    "df = pd.read_csv('data/Gold.csv',dtype={'Price': 'float64', 'Open': 'float64'})\n",
    "\n",
    "df.head()\n"
   ]
  },
  {
   "cell_type": "markdown",
   "metadata": {},
   "source": [
    "### basic EDA"
   ]
  },
  {
   "cell_type": "code",
   "execution_count": null,
   "metadata": {},
   "outputs": [],
   "source": [
    "# to check the data type\n",
    "df.info()"
   ]
  },
  {
   "cell_type": "code",
   "execution_count": null,
   "metadata": {},
   "outputs": [],
   "source": [
    "# converting date col to datetime format with year_first\n",
    "df['Date'] = pd.to_datetime(df['Date'], yearfirst= True)\n"
   ]
  },
  {
   "cell_type": "code",
   "execution_count": null,
   "metadata": {},
   "outputs": [],
   "source": [
    "df.head()"
   ]
  },
  {
   "cell_type": "code",
   "execution_count": null,
   "metadata": {},
   "outputs": [],
   "source": [
    "# checking null values!\n",
    "df.isna().sum()"
   ]
  },
  {
   "cell_type": "code",
   "execution_count": null,
   "metadata": {},
   "outputs": [],
   "source": [
    "# basic stats on the dataset\n",
    "df.describe()"
   ]
  },
  {
   "cell_type": "code",
   "execution_count": null,
   "metadata": {},
   "outputs": [],
   "source": [
    " df.to_csv('data/Gold_data.csv', index=False)"
   ]
  },
  {
   "cell_type": "markdown",
   "metadata": {},
   "source": [
    "### Plotting the time-series data"
   ]
  },
  {
   "cell_type": "code",
   "execution_count": null,
   "metadata": {},
   "outputs": [],
   "source": [
    "sns.set_theme(context='notebook',\n",
    "    style='darkgrid',\n",
    "    palette='deep',\n",
    "    font='sans-serif',\n",
    "    font_scale=1,\n",
    "    color_codes=True,\n",
    "    rc=None)\n",
    "fig_dims = (15,8 )\n",
    "fig, ax = plt.subplots(figsize=fig_dims)\n",
    "sns.lineplot(x = df['Date'], y = df['Price'] , ax =ax)\n",
    "plt.ylabel('Gold Closing Price')"
   ]
  },
  {
   "cell_type": "markdown",
   "metadata": {},
   "source": [
    "### QQ Plot\n",
    "\n",
    "#### QQ plot is used to determine whether a data set is distributed a certain way or it showcases how the data fits a Normal Distribution!"
   ]
  },
  {
   "cell_type": "code",
   "execution_count": null,
   "metadata": {},
   "outputs": [],
   "source": [
    "scipy.stats.probplot(df.Price, plot = pylab)\n",
    "pylab.show()"
   ]
  },
  {
   "cell_type": "markdown",
   "metadata": {},
   "source": [
    "the y axis is the price of the gold arranged in ascending order and the x axis is the theoretical quantiles of the dataset in other words how many standard deviations the values are away from the mean. The red diagonal line indicates the trend the price to follow for it to be normally distributed, but from the above plot its clearly seen that it doe not follow the red line as we see we have more values aroun 400-500 price range than it should!"
   ]
  },
  {
   "cell_type": "markdown",
   "metadata": {},
   "source": []
  },
  {
   "cell_type": "code",
   "execution_count": null,
   "metadata": {},
   "outputs": [],
   "source": [
    "pip install MetaTrader5"
   ]
  },
  {
   "cell_type": "code",
   "execution_count": 28,
   "metadata": {},
   "outputs": [
    {
     "name": "stdout",
     "output_type": "stream",
     "text": [
      "\n",
      "Display dataframe with data\n",
      "           time     open     high      low    close  tick_volume  spread  real_volume\n",
      "0    1998-04-22   310.30   314.40   310.00   313.50          561       0            0\n",
      "1    1998-04-23   312.60   315.20   311.90   314.30          491       0            0\n",
      "2    1998-04-24   313.40   314.20   311.80   312.90          431       0            0\n",
      "3    1998-04-27   312.25   313.65   308.90   309.90          716       0            0\n",
      "4    1998-04-28   309.39   310.90   306.30   308.20          802       0            0\n",
      "...         ...      ...      ...      ...      ...          ...     ...          ...\n",
      "6429 2022-07-21  1696.30  1720.18  1680.92  1718.22        84071       0            0\n",
      "6430 2022-07-22  1717.75  1739.25  1712.89  1727.38        83882       0            0\n",
      "6431 2022-07-25  1726.70  1736.22  1714.74  1719.64        77996       0            0\n",
      "6432 2022-07-26  1719.11  1728.16  1713.62  1717.20        76775       0            0\n",
      "6433 2022-07-27  1717.41  1738.26  1711.50  1735.44        73703       0            0\n",
      "\n",
      "[6434 rows x 8 columns]\n"
     ]
    }
   ],
   "source": [
    "\"\"\" Extracting data directly from MetaTrader5\"\"\"\n",
    "\n",
    "# Import all the necessary libraries!\n",
    "\n",
    "import pandas as pd\n",
    "from datetime import datetime\n",
    "import MetaTrader5 as mt5\n",
    "\n",
    "pd.set_option('display.max_columns', 500) # number of columns to be displayed\n",
    "pd.set_option('display.width', 1500)      # max table width to display\n",
    "\n",
    "\n",
    "def get_mt5_data(currency_symbol = \"XAUUSD\", timeframe_val= mt5.TIMEFRAME_D1):\n",
    "\n",
    "    \"\"\" This function extracts stock or currency data from mt5 terminal:\n",
    "    the function needs 2 inputs:\n",
    "    1. currency_symbol: eg: \"XAUUSD\" \"USDEUR\"\n",
    "    2. timeframe_val: resolution of the data, that could be daily price, 4H(4 hour) price, 1H etc \n",
    "                        eg:'mt5.TIMEFRAME_D1' for daily price\n",
    "                            mt5.TIMEFRAME_H4 for hour 4 price \"\"\"\n",
    "\n",
    "    # mt5 initialization\n",
    "    if not mt5.initialize():\n",
    "        print(\"initialize() failed, error code =\",mt5.last_error())\n",
    "        quit()\n",
    "    \n",
    "    # getting currency/stock values from mt5 terminal\n",
    "    rates = mt5.copy_rates_from_pos(currency_symbol, timeframe_val, 0, 10000)\n",
    "    \n",
    "    # once extracted, shutdown mt5 session\n",
    "    mt5.shutdown()\n",
    "\n",
    "    # dumping data from mt5 to pyndas dataframe\n",
    "    rates_frame = pd.DataFrame(rates)\n",
    "    # convert time in seconds into the datetime format\n",
    "    rates_frame['time']=pd.to_datetime(rates_frame['time'], unit='s')\n",
    "    \n",
    "    # display data\n",
    "    print(\"\\nDisplay dataframe with data\")\n",
    "    print(rates_frame)    \n",
    "\n",
    "if __name__=='__main__':\n",
    "\n",
    "    currency_symbol = \"XAUUSD\"\n",
    "    timeframe_val= mt5.TIMEFRAME_D1\n",
    "\n",
    "\n",
    "    get_mt5_data(currency_symbol,timeframe_val)\n",
    "\n",
    "\n",
    "\n",
    "\n",
    "\n"
   ]
  },
  {
   "cell_type": "code",
   "execution_count": 25,
   "metadata": {},
   "outputs": [
    {
     "name": "stdout",
     "output_type": "stream",
     "text": [
      "\n",
      "Display dataframe with data\n",
      "           time     open     high      low    close  tick_volume  spread  real_volume\n",
      "0    1998-04-22   310.30   314.40   310.00   313.50          561       0            0\n",
      "1    1998-04-23   312.60   315.20   311.90   314.30          491       0            0\n",
      "2    1998-04-24   313.40   314.20   311.80   312.90          431       0            0\n",
      "3    1998-04-27   312.25   313.65   308.90   309.90          716       0            0\n",
      "4    1998-04-28   309.39   310.90   306.30   308.20          802       0            0\n",
      "...         ...      ...      ...      ...      ...          ...     ...          ...\n",
      "6429 2022-07-21  1696.30  1720.18  1680.92  1718.22        84071       0            0\n",
      "6430 2022-07-22  1717.75  1739.25  1712.89  1727.38        83882       0            0\n",
      "6431 2022-07-25  1726.70  1736.22  1714.74  1719.64        77996       0            0\n",
      "6432 2022-07-26  1719.11  1728.16  1713.62  1717.20        76775       0            0\n",
      "6433 2022-07-27  1717.41  1738.26  1711.50  1736.42        73338       0            0\n",
      "\n",
      "[6434 rows x 8 columns]\n"
     ]
    }
   ],
   "source": [
    "get_mt5_data(\"XAUUSD\",mt5.TIMEFRAME_D1)"
   ]
  },
  {
   "cell_type": "code",
   "execution_count": null,
   "metadata": {},
   "outputs": [],
   "source": []
  }
 ],
 "metadata": {
  "kernelspec": {
   "display_name": "Python 3.10.2 ('deepL')",
   "language": "python",
   "name": "python3"
  },
  "language_info": {
   "codemirror_mode": {
    "name": "ipython",
    "version": 3
   },
   "file_extension": ".py",
   "mimetype": "text/x-python",
   "name": "python",
   "nbconvert_exporter": "python",
   "pygments_lexer": "ipython3",
   "version": "3.10.2"
  },
  "orig_nbformat": 4,
  "vscode": {
   "interpreter": {
    "hash": "b90cab7ea642421f44636989edaf96d86cb1abe354b45ce6eed3b362842c2584"
   }
  }
 },
 "nbformat": 4,
 "nbformat_minor": 2
}
