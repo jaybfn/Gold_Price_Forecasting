{
 "cells": [
  {
   "cell_type": "code",
   "execution_count": 53,
   "metadata": {},
   "outputs": [],
   "source": [
    "# calling all the required library for some basic EDA\n",
    "import pandas as pd\n",
    "import numpy as np\n",
    "import matplotlib.pyplot as plt\n",
    "import seaborn as sns\n"
   ]
  },
  {
   "cell_type": "code",
   "execution_count": 54,
   "metadata": {},
   "outputs": [
    {
     "data": {
      "text/html": [
       "<div>\n",
       "<style scoped>\n",
       "    .dataframe tbody tr th:only-of-type {\n",
       "        vertical-align: middle;\n",
       "    }\n",
       "\n",
       "    .dataframe tbody tr th {\n",
       "        vertical-align: top;\n",
       "    }\n",
       "\n",
       "    .dataframe thead th {\n",
       "        text-align: right;\n",
       "    }\n",
       "</style>\n",
       "<table border=\"1\" class=\"dataframe\">\n",
       "  <thead>\n",
       "    <tr style=\"text-align: right;\">\n",
       "      <th></th>\n",
       "      <th>Date</th>\n",
       "      <th>Price</th>\n",
       "      <th>Open</th>\n",
       "      <th>High</th>\n",
       "      <th>Low</th>\n",
       "      <th>Vol.</th>\n",
       "      <th>Change %</th>\n",
       "    </tr>\n",
       "  </thead>\n",
       "  <tbody>\n",
       "    <tr>\n",
       "      <th>0</th>\n",
       "      <td>Mar 31, 2022</td>\n",
       "      <td>1949.2</td>\n",
       "      <td>1933.5</td>\n",
       "      <td>1949.9</td>\n",
       "      <td>1919.1</td>\n",
       "      <td>3.62K</td>\n",
       "      <td>0.81%</td>\n",
       "    </tr>\n",
       "    <tr>\n",
       "      <th>1</th>\n",
       "      <td>Mar 30, 2022</td>\n",
       "      <td>1933.5</td>\n",
       "      <td>1918.4</td>\n",
       "      <td>1937.0</td>\n",
       "      <td>1914.5</td>\n",
       "      <td>17.77K</td>\n",
       "      <td>1.11%</td>\n",
       "    </tr>\n",
       "    <tr>\n",
       "      <th>2</th>\n",
       "      <td>Mar 29, 2022</td>\n",
       "      <td>1912.2</td>\n",
       "      <td>1922.4</td>\n",
       "      <td>1929.4</td>\n",
       "      <td>1888.3</td>\n",
       "      <td>128.05K</td>\n",
       "      <td>-1.42%</td>\n",
       "    </tr>\n",
       "    <tr>\n",
       "      <th>3</th>\n",
       "      <td>Mar 28, 2022</td>\n",
       "      <td>1939.8</td>\n",
       "      <td>1958.7</td>\n",
       "      <td>1959.8</td>\n",
       "      <td>1915.7</td>\n",
       "      <td>181.37K</td>\n",
       "      <td>-0.74%</td>\n",
       "    </tr>\n",
       "    <tr>\n",
       "      <th>4</th>\n",
       "      <td>Mar 25, 2022</td>\n",
       "      <td>1954.2</td>\n",
       "      <td>1957.8</td>\n",
       "      <td>1965.1</td>\n",
       "      <td>1942.6</td>\n",
       "      <td>147.90K</td>\n",
       "      <td>-0.41%</td>\n",
       "    </tr>\n",
       "  </tbody>\n",
       "</table>\n",
       "</div>"
      ],
      "text/plain": [
       "           Date   Price    Open    High     Low     Vol. Change %\n",
       "0  Mar 31, 2022  1949.2  1933.5  1949.9  1919.1    3.62K    0.81%\n",
       "1  Mar 30, 2022  1933.5  1918.4  1937.0  1914.5   17.77K    1.11%\n",
       "2  Mar 29, 2022  1912.2  1922.4  1929.4  1888.3  128.05K   -1.42%\n",
       "3  Mar 28, 2022  1939.8  1958.7  1959.8  1915.7  181.37K   -0.74%\n",
       "4  Mar 25, 2022  1954.2  1957.8  1965.1  1942.6  147.90K   -0.41%"
      ]
     },
     "execution_count": 54,
     "metadata": {},
     "output_type": "execute_result"
    }
   ],
   "source": [
    "# loading the dataset:\n",
    "df = pd.read_csv('data/Gold.csv',dtype={'Price': 'float64', 'Open': 'float64'})\n",
    "\n",
    "df.head()\n"
   ]
  },
  {
   "cell_type": "code",
   "execution_count": 55,
   "metadata": {},
   "outputs": [
    {
     "name": "stdout",
     "output_type": "stream",
     "text": [
      "<class 'pandas.core.frame.DataFrame'>\n",
      "RangeIndex: 4929 entries, 0 to 4928\n",
      "Data columns (total 7 columns):\n",
      " #   Column    Non-Null Count  Dtype  \n",
      "---  ------    --------------  -----  \n",
      " 0   Date      4929 non-null   object \n",
      " 1   Price     4929 non-null   float64\n",
      " 2   Open      4929 non-null   float64\n",
      " 3   High      4929 non-null   float64\n",
      " 4   Low       4929 non-null   float64\n",
      " 5   Vol.      4929 non-null   object \n",
      " 6   Change %  4929 non-null   object \n",
      "dtypes: float64(4), object(3)\n",
      "memory usage: 269.7+ KB\n"
     ]
    }
   ],
   "source": [
    "# to check the data type\n",
    "df.info()"
   ]
  },
  {
   "cell_type": "code",
   "execution_count": 56,
   "metadata": {},
   "outputs": [],
   "source": [
    "# converting date col to datetime format with year_first\n",
    "df['Date'] = pd.to_datetime(df['Date'], yearfirst= True)\n"
   ]
  },
  {
   "cell_type": "code",
   "execution_count": 57,
   "metadata": {},
   "outputs": [
    {
     "data": {
      "text/html": [
       "<div>\n",
       "<style scoped>\n",
       "    .dataframe tbody tr th:only-of-type {\n",
       "        vertical-align: middle;\n",
       "    }\n",
       "\n",
       "    .dataframe tbody tr th {\n",
       "        vertical-align: top;\n",
       "    }\n",
       "\n",
       "    .dataframe thead th {\n",
       "        text-align: right;\n",
       "    }\n",
       "</style>\n",
       "<table border=\"1\" class=\"dataframe\">\n",
       "  <thead>\n",
       "    <tr style=\"text-align: right;\">\n",
       "      <th></th>\n",
       "      <th>Date</th>\n",
       "      <th>Price</th>\n",
       "      <th>Open</th>\n",
       "      <th>High</th>\n",
       "      <th>Low</th>\n",
       "      <th>Vol.</th>\n",
       "      <th>Change %</th>\n",
       "    </tr>\n",
       "  </thead>\n",
       "  <tbody>\n",
       "    <tr>\n",
       "      <th>0</th>\n",
       "      <td>2022-03-31</td>\n",
       "      <td>1949.2</td>\n",
       "      <td>1933.5</td>\n",
       "      <td>1949.9</td>\n",
       "      <td>1919.1</td>\n",
       "      <td>3.62K</td>\n",
       "      <td>0.81%</td>\n",
       "    </tr>\n",
       "    <tr>\n",
       "      <th>1</th>\n",
       "      <td>2022-03-30</td>\n",
       "      <td>1933.5</td>\n",
       "      <td>1918.4</td>\n",
       "      <td>1937.0</td>\n",
       "      <td>1914.5</td>\n",
       "      <td>17.77K</td>\n",
       "      <td>1.11%</td>\n",
       "    </tr>\n",
       "    <tr>\n",
       "      <th>2</th>\n",
       "      <td>2022-03-29</td>\n",
       "      <td>1912.2</td>\n",
       "      <td>1922.4</td>\n",
       "      <td>1929.4</td>\n",
       "      <td>1888.3</td>\n",
       "      <td>128.05K</td>\n",
       "      <td>-1.42%</td>\n",
       "    </tr>\n",
       "    <tr>\n",
       "      <th>3</th>\n",
       "      <td>2022-03-28</td>\n",
       "      <td>1939.8</td>\n",
       "      <td>1958.7</td>\n",
       "      <td>1959.8</td>\n",
       "      <td>1915.7</td>\n",
       "      <td>181.37K</td>\n",
       "      <td>-0.74%</td>\n",
       "    </tr>\n",
       "    <tr>\n",
       "      <th>4</th>\n",
       "      <td>2022-03-25</td>\n",
       "      <td>1954.2</td>\n",
       "      <td>1957.8</td>\n",
       "      <td>1965.1</td>\n",
       "      <td>1942.6</td>\n",
       "      <td>147.90K</td>\n",
       "      <td>-0.41%</td>\n",
       "    </tr>\n",
       "  </tbody>\n",
       "</table>\n",
       "</div>"
      ],
      "text/plain": [
       "        Date   Price    Open    High     Low     Vol. Change %\n",
       "0 2022-03-31  1949.2  1933.5  1949.9  1919.1    3.62K    0.81%\n",
       "1 2022-03-30  1933.5  1918.4  1937.0  1914.5   17.77K    1.11%\n",
       "2 2022-03-29  1912.2  1922.4  1929.4  1888.3  128.05K   -1.42%\n",
       "3 2022-03-28  1939.8  1958.7  1959.8  1915.7  181.37K   -0.74%\n",
       "4 2022-03-25  1954.2  1957.8  1965.1  1942.6  147.90K   -0.41%"
      ]
     },
     "execution_count": 57,
     "metadata": {},
     "output_type": "execute_result"
    }
   ],
   "source": [
    "df.head()"
   ]
  },
  {
   "cell_type": "code",
   "execution_count": 60,
   "metadata": {},
   "outputs": [
    {
     "data": {
      "text/plain": [
       "Date        0\n",
       "Price       0\n",
       "Open        0\n",
       "High        0\n",
       "Low         0\n",
       "Vol.        0\n",
       "Change %    0\n",
       "dtype: int64"
      ]
     },
     "execution_count": 60,
     "metadata": {},
     "output_type": "execute_result"
    }
   ],
   "source": [
    "# checking null values!\n",
    "df.isna().sum()"
   ]
  },
  {
   "cell_type": "code",
   "execution_count": 59,
   "metadata": {},
   "outputs": [
    {
     "data": {
      "text/plain": [
       "Text(0, 0.5, 'Gold Closing Price')"
      ]
     },
     "execution_count": 59,
     "metadata": {},
     "output_type": "execute_result"
    },
    {
     "data": {
      "image/png": "[encoded data removed]",
      "text/plain": [
       "<Figure size 1080x576 with 1 Axes>"
      ]
     },
     "metadata": {},
     "output_type": "display_data"
    }
   ],
   "source": [
    "sns.set_theme(context='notebook',\n",
    "    style='darkgrid',\n",
    "    palette='deep',\n",
    "    font='sans-serif',\n",
    "    font_scale=1,\n",
    "    color_codes=True,\n",
    "    rc=None)\n",
    "fig_dims = (15,8 )\n",
    "fig, ax = plt.subplots(figsize=fig_dims)\n",
    "sns.lineplot(x = df['Date'], y = df['Price'] , ax =ax)\n",
    "plt.ylabel('Gold Closing Price')"
   ]
  },
  {
   "cell_type": "code",
   "execution_count": null,
   "metadata": {},
   "outputs": [],
   "source": []
  }
 ],
 "metadata": {
  "kernelspec": {
   "display_name": "Python 3.10.2 ('deepL')",
   "language": "python",
   "name": "python3"
  },
  "language_info": {
   "codemirror_mode": {
    "name": "ipython",
    "version": 3
   },
   "file_extension": ".py",
   "mimetype": "text/x-python",
   "name": "python",
   "nbconvert_exporter": "python",
   "pygments_lexer": "ipython3",
   "version": "3.10.2"
  },
  "orig_nbformat": 4,
  "vscode": {
   "interpreter": {
    "hash": "b90cab7ea642421f44636989edaf96d86cb1abe354b45ce6eed3b362842c2584"
   }
  }
 },
 "nbformat": 4,
 "nbformat_minor": 2
}
