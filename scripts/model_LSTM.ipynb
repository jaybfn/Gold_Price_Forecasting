{
 "cells": [
  {
   "cell_type": "code",
   "execution_count": 1,
   "metadata": {},
   "outputs": [],
   "source": [
    "import os\n",
    "import datetime\n",
    "import pandas as pd\n",
    "import numpy as np\n",
    "import tensorflow as tf\n",
    "from tensorflow import keras\n",
    "from tensorflow.keras.models import Sequential\n",
    "from tensorflow.keras.layers import LSTM\n",
    "from tensorflow.keras.layers import Dense, Dropout\n",
    "from sklearn.preprocessing import StandardScaler\n",
    "import seaborn as sns\n",
    "import matplotlib.pyplot as plt\n"
   ]
  },
  {
   "cell_type": "code",
   "execution_count": 2,
   "metadata": {},
   "outputs": [
    {
     "name": "stdout",
     "output_type": "stream",
     "text": [
      "     open    high    low  close  tick_volume\n",
      "0  310.30  314.40  310.0  313.5          561\n",
      "1  312.60  315.20  311.9  314.3          491\n",
      "2  313.40  314.20  311.8  312.9          431\n",
      "3  312.25  313.65  308.9  309.9          716\n",
      "4  309.39  310.90  306.3  308.2          802\n"
     ]
    }
   ],
   "source": [
    "class DataFormatting():\n",
    "\n",
    "    def __init__(self):\n",
    "       \n",
    "        self.df_data = None\n",
    "        self.df_datetime = None\n",
    "\n",
    "    def dataset(df):\n",
    "\n",
    "        # converting time colum from object type to datetime format\n",
    "        df['time'] = pd.to_datetime(df['time'])\n",
    "        # splitting the dataframe in to X and y \n",
    "        df_data = df[['open','high','low','close','tick_volume']]\n",
    "        df_datetime =df[['time']]\n",
    "\n",
    "        return df_data, df_datetime\n",
    "\n",
    "\n",
    "data = pd.read_csv('../data/gold_mt5.csv',index_col=[0]) \n",
    "\n",
    "data_init = DataFormatting()\n",
    "df_data, _ = DataFormatting.dataset(data)\n",
    "print(df_data.head())\n",
    "\n",
    "\n",
    "\n",
    "# def transform_data(data == True):\n",
    "\n",
    "#     if data == True:\n",
    "#         df = pd.read_csv('../data/gold_mt5.csv',index_col=[0])\n",
    "#         df['time'] = pd.to_datetime(df['time'])\n",
    "#         df_data = df[['time','open','high','low','close','tick_volume']]\n",
    "        \n",
    "\n",
    "\n",
    "\n",
    "#     else: \n",
    "#         print('data set do not exist, please run \"get_data_mt5.py\" file to extract the data from mt5 terminal')\n",
    "        \n",
    "\n",
    "    "
   ]
  },
  {
   "cell_type": "code",
   "execution_count": 3,
   "metadata": {},
   "outputs": [],
   "source": [
    "def train_test_split(data, train_split=0.9):\n",
    "\n",
    "    \"\"\" This function will split the dataframe into training and testing set.\n",
    "    Inputs: data: Pandas DatFrame\n",
    "            train_split: default is set to 0.9. Its a ratio to split the trining and testing datset.\n",
    "    \"\"\"\n",
    "    split = int(train_split*len(data)) # for training\n",
    "    X_train = data.iloc[:split,:]\n",
    "    X_test = data.iloc[split:,:]\n",
    "\n",
    "    return X_train, X_test\n",
    "\n",
    "X_train, _ = train_test_split(df_data, train_split=0.9)\n",
    "\n"
   ]
  },
  {
   "cell_type": "code",
   "execution_count": 4,
   "metadata": {},
   "outputs": [
    {
     "name": "stdout",
     "output_type": "stream",
     "text": [
      "[[-1.20962681 -1.20807925 -1.20489845 -1.20420423 -0.66571996]\n",
      " [-1.20486861 -1.20643412 -1.20094037 -1.20254869 -0.66671673]\n",
      " [-1.20321358 -1.20849053 -1.20114869 -1.20544588 -0.66757111]\n",
      " [-1.20559268 -1.20962156 -1.20718997 -1.21165413 -0.66351283]\n",
      " [-1.2115094  -1.21527671 -1.21260629 -1.21517214 -0.66228822]\n",
      " [-1.21510909 -1.21424851 -1.21114805 -1.21041248 -0.66522158]\n",
      " [-1.20861311 -1.21280901 -1.21427284 -1.21786238 -0.66043708]\n",
      " [-1.21800538 -1.22288546 -1.22343892 -1.22696782 -0.66166168]\n",
      " [-1.22586676 -1.22535316 -1.22156404 -1.22262204 -0.66536397]\n",
      " [-1.22338422 -1.22689548 -1.22052244 -1.22469146 -0.66593356]\n",
      " [-1.22348766 -1.22884908 -1.22698035 -1.23007194 -0.66344163]]\n"
     ]
    }
   ],
   "source": [
    "class Normalize():\n",
    "\n",
    "    \"\"\" class Normalize uses standard scaler method to normalize the dataset\"\"\"\n",
    "    def __init__(self):\n",
    "\n",
    "        self.data_fit_transformed = None\n",
    "        self.data_inverse_transformed = None\n",
    "\n",
    "    def fit_transform(self, data):\n",
    "\n",
    "        # initialize StandartScaler()\n",
    "        scaler = StandardScaler()\n",
    "        # fit the method on the dataset\n",
    "        scaler = scaler.fit(data)\n",
    "        # transform the dataset\n",
    "        data_fit_transformed = scaler.transform(data)\n",
    "\n",
    "        return data_fit_transformed\n",
    "\n",
    "    def inverse_transform(self, data):\n",
    "\n",
    "        # initialize StandartScaler()\n",
    "        scaler = StandardScaler()\n",
    "        # inverse transform the dataset\n",
    "        data_inverse_transformed = scaler.inverse_transform(data)\n",
    "        \n",
    "        return data_inverse_transformed\n",
    "\n",
    "# normalize\n",
    "scaler_init = Normalize()\n",
    "scaled_data = scaler_init.fit_transform(X_train)\n",
    "print(scaled_data[0:11])\n"
   ]
  },
  {
   "cell_type": "code",
   "execution_count": 5,
   "metadata": {},
   "outputs": [],
   "source": [
    "def data_transformation(data, lags = 5):\n",
    "\n",
    "    \"\"\" this function transforms dataframe to required input shape for the model.\n",
    "    It required 2 input arguments:\n",
    "    1. data: this will be the pandas dataframe\n",
    "    2. lags: how many previous price points to be used to predict the next future value, in\n",
    "    this case the default is set to 5 for 'XAUUSD' commodity\"\"\"\n",
    "\n",
    "    # initialize lists to store the dataset\n",
    "    X_data = []\n",
    "    y_data = []\n",
    "    \n",
    "    for i in range(lags, len(data)):\n",
    "        X_data.append(data[i-lags: i, 0: data.shape[1]])\n",
    "        y_data.append(data[i,3:4]) # extracts close price with specific lag as price to be predicted.\n",
    "\n",
    "    # convert the list to numpy array\n",
    "\n",
    "    X_data = np.array(X_data)\n",
    "    y_data = np.array(y_data)\n",
    "\n",
    "    return X_data, y_data\n",
    "\n",
    "\n",
    "X_data, y_data = data_transformation(scaled_data, lags = 5)\n"
   ]
  },
  {
   "cell_type": "code",
   "execution_count": 6,
   "metadata": {},
   "outputs": [
    {
     "name": "stdout",
     "output_type": "stream",
     "text": [
      "[[-1.20962681 -1.20807925 -1.20489845 -1.20420423 -0.66571996]\n",
      " [-1.20486861 -1.20643412 -1.20094037 -1.20254869 -0.66671673]\n",
      " [-1.20321358 -1.20849053 -1.20114869 -1.20544588 -0.66757111]\n",
      " [-1.20559268 -1.20962156 -1.20718997 -1.21165413 -0.66351283]\n",
      " [-1.2115094  -1.21527671 -1.21260629 -1.21517214 -0.66228822]] [-1.21041248] [[-1.20486861 -1.20643412 -1.20094037 -1.20254869 -0.66671673]\n",
      " [-1.20321358 -1.20849053 -1.20114869 -1.20544588 -0.66757111]\n",
      " [-1.20559268 -1.20962156 -1.20718997 -1.21165413 -0.66351283]\n",
      " [-1.2115094  -1.21527671 -1.21260629 -1.21517214 -0.66228822]\n",
      " [-1.21510909 -1.21424851 -1.21114805 -1.21041248 -0.66522158]] [-1.21786238]\n"
     ]
    }
   ],
   "source": [
    "print(X_data[0], y_data[0],X_data[1], y_data[1])"
   ]
  },
  {
   "cell_type": "code",
   "execution_count": null,
   "metadata": {},
   "outputs": [],
   "source": [
    "class build_LSTM():\n",
    "\n",
    "    def __init__(self,)"
   ]
  }
 ],
 "metadata": {
  "kernelspec": {
   "display_name": "Python 3.10.2 ('deepL')",
   "language": "python",
   "name": "python3"
  },
  "language_info": {
   "codemirror_mode": {
    "name": "ipython",
    "version": 3
   },
   "file_extension": ".py",
   "mimetype": "text/x-python",
   "name": "python",
   "nbconvert_exporter": "python",
   "pygments_lexer": "ipython3",
   "version": "3.10.2"
  },
  "orig_nbformat": 4,
  "vscode": {
   "interpreter": {
    "hash": "b90cab7ea642421f44636989edaf96d86cb1abe354b45ce6eed3b362842c2584"
   }
  }
 },
 "nbformat": 4,
 "nbformat_minor": 2
}
