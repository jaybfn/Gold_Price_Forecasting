{
 "cells": [
  {
   "cell_type": "code",
   "execution_count": 1,
   "metadata": {},
   "outputs": [],
   "source": [
    "from getdata import preprocessing\n",
    "from feature_engg import feature_engineering\n",
    "import numpy as np\n",
    "import pandas as pd\n",
    "import matplotlib.pyplot as plt\n",
    "from sklearn.preprocessing import StandardScaler\n",
    "\n",
    "import tensorflow\n",
    "from tensorflow.keras.models import Sequential\n",
    "from tensorflow.keras.layers import Dense\n",
    "import ta\n",
    "plt.style.use('seaborn')\n",
    "import warnings\n",
    "warnings.filterwarnings('ignore')"
   ]
  },
  {
   "cell_type": "code",
   "execution_count": 2,
   "metadata": {},
   "outputs": [
    {
     "name": "stdout",
     "output_type": "stream",
     "text": [
      "                   High          Low         Open        Close  Volume  \\\n",
      "Date                                                                     \n",
      "2000-08-30   273.899994   273.899994   273.899994   273.899994     0.0   \n",
      "2000-08-31   278.299988   274.799988   274.799988   278.299988     0.0   \n",
      "2000-09-01   277.000000   277.000000   277.000000   277.000000     0.0   \n",
      "2000-09-05   275.799988   275.799988   275.799988   275.799988     2.0   \n",
      "2000-09-06   274.200012   274.200012   274.200012   274.200012     0.0   \n",
      "...                 ...          ...          ...          ...     ...   \n",
      "2022-07-18  1712.400024  1709.199951  1712.199951  1709.199951   264.0   \n",
      "2022-07-19  1714.400024  1706.099976  1712.300049  1710.000000  1684.0   \n",
      "2022-07-20  1708.500000  1699.500000  1707.099976  1699.500000   130.0   \n",
      "2022-07-21  1715.500000  1679.800049  1687.000000  1712.699951   183.0   \n",
      "2022-07-22  1735.000000  1713.000000  1713.300049  1727.099976   183.0   \n",
      "\n",
      "             returns       SMA_15       SMA_60    MSD_10    MSD_30     rsi_14  \n",
      "Date                                                                           \n",
      "2000-08-30       NaN          NaN          NaN       NaN       NaN        NaN  \n",
      "2000-08-31  0.016064          NaN          NaN       NaN       NaN        NaN  \n",
      "2000-09-01 -0.004671          NaN          NaN       NaN       NaN        NaN  \n",
      "2000-09-05 -0.004332          NaN          NaN       NaN       NaN        NaN  \n",
      "2000-09-06 -0.005801          NaN          NaN       NaN       NaN        NaN  \n",
      "...              ...          ...          ...       ...       ...        ...  \n",
      "2022-07-18  0.003994  1763.413338  1832.756671  0.008998  0.009027  23.694010  \n",
      "2022-07-19  0.000468  1755.593335  1828.705003  0.009490  0.008657  26.993548  \n",
      "2022-07-20 -0.006140  1748.200000  1824.790002  0.007849  0.008529  27.391362  \n",
      "2022-07-21  0.007767  1740.333333  1820.931669  0.006705  0.008554  25.432662  \n",
      "2022-07-22  0.008408  1733.600000  1817.923336  0.007325  0.008667  32.014377  \n",
      "\n",
      "[5493 rows x 11 columns]\n"
     ]
    }
   ],
   "source": [
    "symbol = 'GC=F'\n",
    "price_type = 'Close'\n",
    "df_close = feature_engineering(symbol, price_type)\n",
    "print(df_close)"
   ]
  },
  {
   "cell_type": "code",
   "execution_count": 3,
   "metadata": {},
   "outputs": [
    {
     "data": {
      "text/plain": [
       "Index(['High', 'Low', 'Open', 'Close', 'Volume', 'returns', 'SMA_15', 'SMA_60',\n",
       "       'MSD_10', 'MSD_30', 'rsi_14'],\n",
       "      dtype='object')"
      ]
     },
     "execution_count": 3,
     "metadata": {},
     "output_type": "execute_result"
    }
   ],
   "source": [
    "df_close.columns"
   ]
  },
  {
   "cell_type": "code",
   "execution_count": 4,
   "metadata": {},
   "outputs": [],
   "source": [
    "# splitting the dataset into train val and test set!\n",
    "\n",
    "split = int(0.70*len(df_close)) # for training\n",
    "\n",
    "split_test = int(0.9*len(df_close)) \n",
    "\n",
    "# train set\n",
    "X_train = df_close[['SMA_15', 'SMA_60','MSD_10', 'MSD_30', 'rsi_14']].iloc[:split,:]\n",
    "y_train = df_close[['returns']].iloc[:split,:]\n",
    "#print(X_train.tail())\n",
    "\n",
    "# val dataset\n",
    "\n",
    "X_val = df_close[['SMA_15', 'SMA_60','MSD_10', 'MSD_30', 'rsi_14']].iloc[split:split_test,:]\n",
    "#print(X_val.tail())\n",
    "y_val = df_close[['returns']].iloc[split:split_test,:]\n",
    "\n",
    "# test dataset\n",
    "\n",
    "X_test = df_close[['SMA_15', 'SMA_60','MSD_10', 'MSD_30', 'rsi_14']].iloc[split_test:,:]\n",
    "y_test = df_close[['returns']].iloc[split_test:,:]\n",
    "#print(X_test.head())\n",
    "\n"
   ]
  },
  {
   "cell_type": "code",
   "execution_count": 5,
   "metadata": {},
   "outputs": [],
   "source": [
    "\n",
    "# data normalization\n",
    "\n",
    "scaler = StandardScaler()\n",
    "X_train_sc = scaler.fit_transform(X_train)\n",
    "X_test_sc = scaler.transform(X_test)"
   ]
  },
  {
   "cell_type": "code",
   "execution_count": 6,
   "metadata": {},
   "outputs": [
    {
     "name": "stdout",
     "output_type": "stream",
     "text": [
      "Epoch 1/50\n",
      "121/121 [==============================] - 2s 5ms/step - loss: nan - mean_absolute_error: nan - val_loss: nan - val_mean_absolute_error: nan\n",
      "Epoch 2/50\n",
      "121/121 [==============================] - 1s 4ms/step - loss: nan - mean_absolute_error: nan - val_loss: nan - val_mean_absolute_error: nan\n",
      "Epoch 3/50\n",
      "121/121 [==============================] - 0s 4ms/step - loss: nan - mean_absolute_error: nan - val_loss: nan - val_mean_absolute_error: nan\n",
      "Epoch 4/50\n",
      "121/121 [==============================] - 0s 4ms/step - loss: nan - mean_absolute_error: nan - val_loss: nan - val_mean_absolute_error: nan\n",
      "Epoch 5/50\n",
      "121/121 [==============================] - 0s 4ms/step - loss: nan - mean_absolute_error: nan - val_loss: nan - val_mean_absolute_error: nan\n",
      "Epoch 6/50\n",
      "121/121 [==============================] - 0s 4ms/step - loss: nan - mean_absolute_error: nan - val_loss: nan - val_mean_absolute_error: nan\n",
      "Epoch 7/50\n",
      "121/121 [==============================] - 0s 4ms/step - loss: nan - mean_absolute_error: nan - val_loss: nan - val_mean_absolute_error: nan\n",
      "Epoch 8/50\n",
      "121/121 [==============================] - 0s 4ms/step - loss: nan - mean_absolute_error: nan - val_loss: nan - val_mean_absolute_error: nan\n",
      "Epoch 9/50\n",
      "121/121 [==============================] - 0s 4ms/step - loss: nan - mean_absolute_error: nan - val_loss: nan - val_mean_absolute_error: nan\n",
      "Epoch 10/50\n",
      "121/121 [==============================] - 0s 4ms/step - loss: nan - mean_absolute_error: nan - val_loss: nan - val_mean_absolute_error: nan\n",
      "Epoch 11/50\n",
      "121/121 [==============================] - 0s 4ms/step - loss: nan - mean_absolute_error: nan - val_loss: nan - val_mean_absolute_error: nan\n",
      "Epoch 12/50\n",
      "121/121 [==============================] - 0s 4ms/step - loss: nan - mean_absolute_error: nan - val_loss: nan - val_mean_absolute_error: nan\n",
      "Epoch 13/50\n",
      "121/121 [==============================] - 0s 4ms/step - loss: nan - mean_absolute_error: nan - val_loss: nan - val_mean_absolute_error: nan\n",
      "Epoch 14/50\n",
      "121/121 [==============================] - 0s 4ms/step - loss: nan - mean_absolute_error: nan - val_loss: nan - val_mean_absolute_error: nan\n",
      "Epoch 15/50\n",
      "121/121 [==============================] - 0s 4ms/step - loss: nan - mean_absolute_error: nan - val_loss: nan - val_mean_absolute_error: nan\n",
      "Epoch 16/50\n",
      "121/121 [==============================] - 0s 4ms/step - loss: nan - mean_absolute_error: nan - val_loss: nan - val_mean_absolute_error: nan\n",
      "Epoch 17/50\n",
      "121/121 [==============================] - 0s 4ms/step - loss: nan - mean_absolute_error: nan - val_loss: nan - val_mean_absolute_error: nan\n",
      "Epoch 18/50\n",
      "121/121 [==============================] - 0s 4ms/step - loss: nan - mean_absolute_error: nan - val_loss: nan - val_mean_absolute_error: nan\n",
      "Epoch 19/50\n",
      "121/121 [==============================] - 0s 4ms/step - loss: nan - mean_absolute_error: nan - val_loss: nan - val_mean_absolute_error: nan\n",
      "Epoch 20/50\n",
      "121/121 [==============================] - 0s 4ms/step - loss: nan - mean_absolute_error: nan - val_loss: nan - val_mean_absolute_error: nan\n",
      "Epoch 21/50\n",
      "121/121 [==============================] - 0s 4ms/step - loss: nan - mean_absolute_error: nan - val_loss: nan - val_mean_absolute_error: nan\n",
      "Epoch 22/50\n",
      "121/121 [==============================] - 0s 4ms/step - loss: nan - mean_absolute_error: nan - val_loss: nan - val_mean_absolute_error: nan\n",
      "Epoch 23/50\n",
      "121/121 [==============================] - 0s 4ms/step - loss: nan - mean_absolute_error: nan - val_loss: nan - val_mean_absolute_error: nan\n",
      "Epoch 24/50\n",
      "121/121 [==============================] - 0s 4ms/step - loss: nan - mean_absolute_error: nan - val_loss: nan - val_mean_absolute_error: nan\n",
      "Epoch 25/50\n",
      "121/121 [==============================] - 0s 4ms/step - loss: nan - mean_absolute_error: nan - val_loss: nan - val_mean_absolute_error: nan\n",
      "Epoch 26/50\n",
      "121/121 [==============================] - 0s 4ms/step - loss: nan - mean_absolute_error: nan - val_loss: nan - val_mean_absolute_error: nan\n",
      "Epoch 27/50\n",
      "121/121 [==============================] - 0s 4ms/step - loss: nan - mean_absolute_error: nan - val_loss: nan - val_mean_absolute_error: nan\n",
      "Epoch 28/50\n",
      "121/121 [==============================] - 0s 4ms/step - loss: nan - mean_absolute_error: nan - val_loss: nan - val_mean_absolute_error: nan\n",
      "Epoch 29/50\n",
      "121/121 [==============================] - 0s 4ms/step - loss: nan - mean_absolute_error: nan - val_loss: nan - val_mean_absolute_error: nan\n",
      "Epoch 30/50\n",
      "121/121 [==============================] - 0s 4ms/step - loss: nan - mean_absolute_error: nan - val_loss: nan - val_mean_absolute_error: nan\n",
      "Epoch 31/50\n",
      "121/121 [==============================] - 0s 4ms/step - loss: nan - mean_absolute_error: nan - val_loss: nan - val_mean_absolute_error: nan\n",
      "Epoch 32/50\n",
      "121/121 [==============================] - 0s 4ms/step - loss: nan - mean_absolute_error: nan - val_loss: nan - val_mean_absolute_error: nan\n",
      "Epoch 33/50\n",
      "121/121 [==============================] - 0s 4ms/step - loss: nan - mean_absolute_error: nan - val_loss: nan - val_mean_absolute_error: nan\n",
      "Epoch 34/50\n",
      "121/121 [==============================] - 0s 4ms/step - loss: nan - mean_absolute_error: nan - val_loss: nan - val_mean_absolute_error: nan\n",
      "Epoch 35/50\n",
      "121/121 [==============================] - 0s 4ms/step - loss: nan - mean_absolute_error: nan - val_loss: nan - val_mean_absolute_error: nan\n",
      "Epoch 36/50\n",
      "121/121 [==============================] - 0s 4ms/step - loss: nan - mean_absolute_error: nan - val_loss: nan - val_mean_absolute_error: nan\n",
      "Epoch 37/50\n",
      "121/121 [==============================] - 0s 4ms/step - loss: nan - mean_absolute_error: nan - val_loss: nan - val_mean_absolute_error: nan\n",
      "Epoch 38/50\n",
      "121/121 [==============================] - 0s 4ms/step - loss: nan - mean_absolute_error: nan - val_loss: nan - val_mean_absolute_error: nan\n",
      "Epoch 39/50\n",
      "121/121 [==============================] - 0s 4ms/step - loss: nan - mean_absolute_error: nan - val_loss: nan - val_mean_absolute_error: nan\n",
      "Epoch 40/50\n",
      "121/121 [==============================] - 0s 4ms/step - loss: nan - mean_absolute_error: nan - val_loss: nan - val_mean_absolute_error: nan\n",
      "Epoch 41/50\n",
      "121/121 [==============================] - 0s 4ms/step - loss: nan - mean_absolute_error: nan - val_loss: nan - val_mean_absolute_error: nan\n",
      "Epoch 42/50\n",
      "121/121 [==============================] - 0s 4ms/step - loss: nan - mean_absolute_error: nan - val_loss: nan - val_mean_absolute_error: nan\n",
      "Epoch 43/50\n",
      "121/121 [==============================] - 0s 4ms/step - loss: nan - mean_absolute_error: nan - val_loss: nan - val_mean_absolute_error: nan\n",
      "Epoch 44/50\n",
      "121/121 [==============================] - 0s 4ms/step - loss: nan - mean_absolute_error: nan - val_loss: nan - val_mean_absolute_error: nan\n",
      "Epoch 45/50\n",
      "121/121 [==============================] - 0s 4ms/step - loss: nan - mean_absolute_error: nan - val_loss: nan - val_mean_absolute_error: nan\n",
      "Epoch 46/50\n",
      "121/121 [==============================] - 0s 4ms/step - loss: nan - mean_absolute_error: nan - val_loss: nan - val_mean_absolute_error: nan\n",
      "Epoch 47/50\n",
      "121/121 [==============================] - 0s 4ms/step - loss: nan - mean_absolute_error: nan - val_loss: nan - val_mean_absolute_error: nan\n",
      "Epoch 48/50\n",
      "121/121 [==============================] - 0s 4ms/step - loss: nan - mean_absolute_error: nan - val_loss: nan - val_mean_absolute_error: nan\n",
      "Epoch 49/50\n",
      "121/121 [==============================] - 0s 4ms/step - loss: nan - mean_absolute_error: nan - val_loss: nan - val_mean_absolute_error: nan\n",
      "Epoch 50/50\n",
      "121/121 [==============================] - 0s 4ms/step - loss: nan - mean_absolute_error: nan - val_loss: nan - val_mean_absolute_error: nan\n"
     ]
    },
    {
     "data": {
      "text/plain": [
       "<keras.callbacks.History at 0x1f736ea1b70>"
      ]
     },
     "execution_count": 6,
     "metadata": {},
     "output_type": "execute_result"
    }
   ],
   "source": [
    "# build model\n",
    "\n",
    "hidden_layers = 5\n",
    "\n",
    "# Initialize model\n",
    "\n",
    "regressor = Sequential()\n",
    "\n",
    "# first layer\n",
    "\n",
    "regressor.add(Dense(500, input_shape = (X_train_sc.shape[1],), activation = \"relu\"))\n",
    "\n",
    "# add hidden layer\n",
    "\n",
    "for i in range(1, hidden_layers):\n",
    "\n",
    "    regressor.add(Dense(int(500/i), activation = \"relu\"))\n",
    "\n",
    "# output layer\n",
    "\n",
    "regressor.add(Dense(1, activation = \"linear\"))\n",
    "\n",
    "# compile the model\n",
    "\n",
    "regressor.compile(loss = 'mean_squared_error', metrics='mean_absolute_error', optimizer=\"adam\")\n",
    "\n",
    "# training\n",
    "\n",
    "regressor.fit(X_train_sc, y_train, validation_data = (X_test_sc, y_test), epochs = 50)\n"
   ]
  },
  {
   "cell_type": "code",
   "execution_count": 7,
   "metadata": {},
   "outputs": [
    {
     "data": {
      "text/plain": [
       "<AxesSubplot:>"
      ]
     },
     "execution_count": 7,
     "metadata": {},
     "output_type": "execute_result"
    },
    {
     "data": {
      "image/png": "[encoded data removed]",
      "text/plain": [
       "<Figure size 576x396 with 1 Axes>"
      ]
     },
     "metadata": {},
     "output_type": "display_data"
    }
   ],
   "source": [
    "np.log(pd.DataFrame(regressor.history.history)).plot()"
   ]
  },
  {
   "cell_type": "code",
   "execution_count": null,
   "metadata": {},
   "outputs": [],
   "source": []
  }
 ],
 "metadata": {
  "kernelspec": {
   "display_name": "Python 3.10.2 ('deepL')",
   "language": "python",
   "name": "python3"
  },
  "language_info": {
   "codemirror_mode": {
    "name": "ipython",
    "version": 3
   },
   "file_extension": ".py",
   "mimetype": "text/x-python",
   "name": "python",
   "nbconvert_exporter": "python",
   "pygments_lexer": "ipython3",
   "version": "3.10.2"
  },
  "orig_nbformat": 4,
  "vscode": {
   "interpreter": {
    "hash": "b90cab7ea642421f44636989edaf96d86cb1abe354b45ce6eed3b362842c2584"
   }
  }
 },
 "nbformat": 4,
 "nbformat_minor": 2
}
