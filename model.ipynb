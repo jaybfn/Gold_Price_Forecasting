{
 "cells": [
  {
   "cell_type": "code",
   "execution_count": 1,
   "metadata": {},
   "outputs": [],
   "source": [
    "# calling all the required library for some basic EDA\n",
    "import pandas as pd\n",
    "import numpy as np\n",
    "import matplotlib.pyplot as plt\n",
    "import seaborn as sns\n",
    "\n",
    "import statsmodels.graphics.tsaplots as sgt\n",
    "from statsmodels.tsa.ar_model import AutoReg\n",
    "import statsmodels.tsa.stattools as sts\n",
    "from statsmodels.tsa.seasonal import seasonal_decompose\n",
    "from scipy.stats.distributions import chi2\n",
    "from statsmodels.tsa.stattools import adfuller, kpss\n",
    "from math import sqrt\n",
    "\n",
    "sns.set()"
   ]
  },
  {
   "cell_type": "code",
   "execution_count": 2,
   "metadata": {},
   "outputs": [
    {
     "data": {
      "text/html": [
       "<div>\n",
       "<style scoped>\n",
       "    .dataframe tbody tr th:only-of-type {\n",
       "        vertical-align: middle;\n",
       "    }\n",
       "\n",
       "    .dataframe tbody tr th {\n",
       "        vertical-align: top;\n",
       "    }\n",
       "\n",
       "    .dataframe thead th {\n",
       "        text-align: right;\n",
       "    }\n",
       "</style>\n",
       "<table border=\"1\" class=\"dataframe\">\n",
       "  <thead>\n",
       "    <tr style=\"text-align: right;\">\n",
       "      <th></th>\n",
       "      <th>Price</th>\n",
       "      <th>Open</th>\n",
       "      <th>High</th>\n",
       "      <th>Low</th>\n",
       "      <th>Vol.</th>\n",
       "      <th>Change %</th>\n",
       "    </tr>\n",
       "    <tr>\n",
       "      <th>Date</th>\n",
       "      <th></th>\n",
       "      <th></th>\n",
       "      <th></th>\n",
       "      <th></th>\n",
       "      <th></th>\n",
       "      <th></th>\n",
       "    </tr>\n",
       "  </thead>\n",
       "  <tbody>\n",
       "    <tr>\n",
       "      <th>2003-01-31</th>\n",
       "      <td>368.3</td>\n",
       "      <td>368.8</td>\n",
       "      <td>371.5</td>\n",
       "      <td>367.0</td>\n",
       "      <td>6.54K</td>\n",
       "      <td>-0.08%</td>\n",
       "    </tr>\n",
       "    <tr>\n",
       "      <th>2003-02-03</th>\n",
       "      <td>370.8</td>\n",
       "      <td>368.0</td>\n",
       "      <td>372.0</td>\n",
       "      <td>368.0</td>\n",
       "      <td>0.82K</td>\n",
       "      <td>0.68%</td>\n",
       "    </tr>\n",
       "    <tr>\n",
       "      <th>2003-02-04</th>\n",
       "      <td>379.0</td>\n",
       "      <td>371.4</td>\n",
       "      <td>379.5</td>\n",
       "      <td>371.2</td>\n",
       "      <td>1.36K</td>\n",
       "      <td>2.21%</td>\n",
       "    </tr>\n",
       "    <tr>\n",
       "      <th>2003-02-05</th>\n",
       "      <td>376.4</td>\n",
       "      <td>379.0</td>\n",
       "      <td>388.9</td>\n",
       "      <td>374.0</td>\n",
       "      <td>0.83K</td>\n",
       "      <td>-0.69%</td>\n",
       "    </tr>\n",
       "    <tr>\n",
       "      <th>2003-02-06</th>\n",
       "      <td>370.1</td>\n",
       "      <td>370.0</td>\n",
       "      <td>377.0</td>\n",
       "      <td>368.4</td>\n",
       "      <td>0.73K</td>\n",
       "      <td>-1.67%</td>\n",
       "    </tr>\n",
       "  </tbody>\n",
       "</table>\n",
       "</div>"
      ],
      "text/plain": [
       "            Price   Open   High    Low   Vol. Change %\n",
       "Date                                                  \n",
       "2003-01-31  368.3  368.8  371.5  367.0  6.54K   -0.08%\n",
       "2003-02-03  370.8  368.0  372.0  368.0  0.82K    0.68%\n",
       "2003-02-04  379.0  371.4  379.5  371.2  1.36K    2.21%\n",
       "2003-02-05  376.4  379.0  388.9  374.0  0.83K   -0.69%\n",
       "2003-02-06  370.1  370.0  377.0  368.4  0.73K   -1.67%"
      ]
     },
     "execution_count": 2,
     "metadata": {},
     "output_type": "execute_result"
    }
   ],
   "source": [
    "raw_data = pd.read_csv('data/Gold_data.csv')\n",
    "df_working = raw_data.copy()\n",
    "df_working = df_working[::-1]\n",
    "df_working.Date = pd.to_datetime(df_working.Date, dayfirst= True)\n",
    "df_working.set_index('Date', inplace = True)\n",
    "#df_working = df_working.asfreq('b')\n",
    "#df_working = df_working.fillna(method = 'ffill')\n",
    "df_working.head()"
   ]
  },
  {
   "cell_type": "code",
   "execution_count": 3,
   "metadata": {},
   "outputs": [],
   "source": [
    "# reversing the dataframe\n",
    "# df_working = df_working[::-1]\n",
    "# df_working.head()"
   ]
  },
  {
   "cell_type": "markdown",
   "metadata": {},
   "source": [
    "#### Splitting the data!"
   ]
  },
  {
   "cell_type": "code",
   "execution_count": 4,
   "metadata": {},
   "outputs": [],
   "source": [
    "size = int(len(df_working)*0.8)"
   ]
  },
  {
   "cell_type": "code",
   "execution_count": 5,
   "metadata": {},
   "outputs": [
    {
     "data": {
      "text/html": [
       "<div>\n",
       "<style scoped>\n",
       "    .dataframe tbody tr th:only-of-type {\n",
       "        vertical-align: middle;\n",
       "    }\n",
       "\n",
       "    .dataframe tbody tr th {\n",
       "        vertical-align: top;\n",
       "    }\n",
       "\n",
       "    .dataframe thead th {\n",
       "        text-align: right;\n",
       "    }\n",
       "</style>\n",
       "<table border=\"1\" class=\"dataframe\">\n",
       "  <thead>\n",
       "    <tr style=\"text-align: right;\">\n",
       "      <th></th>\n",
       "      <th>Price</th>\n",
       "      <th>Open</th>\n",
       "      <th>High</th>\n",
       "      <th>Low</th>\n",
       "      <th>Vol.</th>\n",
       "      <th>Change %</th>\n",
       "    </tr>\n",
       "    <tr>\n",
       "      <th>Date</th>\n",
       "      <th></th>\n",
       "      <th></th>\n",
       "      <th></th>\n",
       "      <th></th>\n",
       "      <th></th>\n",
       "      <th></th>\n",
       "    </tr>\n",
       "  </thead>\n",
       "  <tbody>\n",
       "    <tr>\n",
       "      <th>2018-07-04</th>\n",
       "      <td>1258.1</td>\n",
       "      <td>1256.2</td>\n",
       "      <td>1262.4</td>\n",
       "      <td>1255.3</td>\n",
       "      <td>-</td>\n",
       "      <td>-6.27%</td>\n",
       "    </tr>\n",
       "    <tr>\n",
       "      <th>2018-07-05</th>\n",
       "      <td>1347.4</td>\n",
       "      <td>1347.4</td>\n",
       "      <td>1347.4</td>\n",
       "      <td>1347.4</td>\n",
       "      <td>0.01K</td>\n",
       "      <td>7.10%</td>\n",
       "    </tr>\n",
       "    <tr>\n",
       "      <th>2018-07-06</th>\n",
       "      <td>1344.6</td>\n",
       "      <td>1344.6</td>\n",
       "      <td>1344.6</td>\n",
       "      <td>1344.6</td>\n",
       "      <td>0.01K</td>\n",
       "      <td>-0.21%</td>\n",
       "    </tr>\n",
       "    <tr>\n",
       "      <th>2018-07-09</th>\n",
       "      <td>1348.8</td>\n",
       "      <td>1348.8</td>\n",
       "      <td>1348.8</td>\n",
       "      <td>1348.8</td>\n",
       "      <td>0.04K</td>\n",
       "      <td>0.31%</td>\n",
       "    </tr>\n",
       "    <tr>\n",
       "      <th>2018-07-10</th>\n",
       "      <td>1344.9</td>\n",
       "      <td>1344.9</td>\n",
       "      <td>1344.9</td>\n",
       "      <td>1344.9</td>\n",
       "      <td>0.07K</td>\n",
       "      <td>-0.29%</td>\n",
       "    </tr>\n",
       "  </tbody>\n",
       "</table>\n",
       "</div>"
      ],
      "text/plain": [
       "             Price    Open    High     Low   Vol. Change %\n",
       "Date                                                      \n",
       "2018-07-04  1258.1  1256.2  1262.4  1255.3      -   -6.27%\n",
       "2018-07-05  1347.4  1347.4  1347.4  1347.4  0.01K    7.10%\n",
       "2018-07-06  1344.6  1344.6  1344.6  1344.6  0.01K   -0.21%\n",
       "2018-07-09  1348.8  1348.8  1348.8  1348.8  0.04K    0.31%\n",
       "2018-07-10  1344.9  1344.9  1344.9  1344.9  0.07K   -0.29%"
      ]
     },
     "execution_count": 5,
     "metadata": {},
     "output_type": "execute_result"
    }
   ],
   "source": [
    "df_train = df_working.iloc[:size]\n",
    "df_train.tail()"
   ]
  },
  {
   "cell_type": "code",
   "execution_count": 6,
   "metadata": {},
   "outputs": [
    {
     "data": {
      "text/html": [
       "<div>\n",
       "<style scoped>\n",
       "    .dataframe tbody tr th:only-of-type {\n",
       "        vertical-align: middle;\n",
       "    }\n",
       "\n",
       "    .dataframe tbody tr th {\n",
       "        vertical-align: top;\n",
       "    }\n",
       "\n",
       "    .dataframe thead th {\n",
       "        text-align: right;\n",
       "    }\n",
       "</style>\n",
       "<table border=\"1\" class=\"dataframe\">\n",
       "  <thead>\n",
       "    <tr style=\"text-align: right;\">\n",
       "      <th></th>\n",
       "      <th>Price</th>\n",
       "      <th>Open</th>\n",
       "      <th>High</th>\n",
       "      <th>Low</th>\n",
       "      <th>Vol.</th>\n",
       "      <th>Change %</th>\n",
       "    </tr>\n",
       "    <tr>\n",
       "      <th>Date</th>\n",
       "      <th></th>\n",
       "      <th></th>\n",
       "      <th></th>\n",
       "      <th></th>\n",
       "      <th></th>\n",
       "      <th></th>\n",
       "    </tr>\n",
       "  </thead>\n",
       "  <tbody>\n",
       "    <tr>\n",
       "      <th>2018-07-11</th>\n",
       "      <td>1333.1</td>\n",
       "      <td>1333.1</td>\n",
       "      <td>1333.1</td>\n",
       "      <td>1333.1</td>\n",
       "      <td>0.03K</td>\n",
       "      <td>-0.88%</td>\n",
       "    </tr>\n",
       "    <tr>\n",
       "      <th>2018-07-12</th>\n",
       "      <td>1335.2</td>\n",
       "      <td>1335.2</td>\n",
       "      <td>1335.2</td>\n",
       "      <td>1335.2</td>\n",
       "      <td>0.01K</td>\n",
       "      <td>0.16%</td>\n",
       "    </tr>\n",
       "    <tr>\n",
       "      <th>2018-07-13</th>\n",
       "      <td>1329.0</td>\n",
       "      <td>1327.0</td>\n",
       "      <td>1327.0</td>\n",
       "      <td>1327.0</td>\n",
       "      <td>0.00K</td>\n",
       "      <td>-0.46%</td>\n",
       "    </tr>\n",
       "    <tr>\n",
       "      <th>2018-07-16</th>\n",
       "      <td>1327.5</td>\n",
       "      <td>1327.5</td>\n",
       "      <td>1327.5</td>\n",
       "      <td>1327.5</td>\n",
       "      <td>0.00K</td>\n",
       "      <td>-0.11%</td>\n",
       "    </tr>\n",
       "    <tr>\n",
       "      <th>2018-07-17</th>\n",
       "      <td>1314.6</td>\n",
       "      <td>1320.0</td>\n",
       "      <td>1320.0</td>\n",
       "      <td>1320.0</td>\n",
       "      <td>0.03K</td>\n",
       "      <td>-0.97%</td>\n",
       "    </tr>\n",
       "  </tbody>\n",
       "</table>\n",
       "</div>"
      ],
      "text/plain": [
       "             Price    Open    High     Low   Vol. Change %\n",
       "Date                                                      \n",
       "2018-07-11  1333.1  1333.1  1333.1  1333.1  0.03K   -0.88%\n",
       "2018-07-12  1335.2  1335.2  1335.2  1335.2  0.01K    0.16%\n",
       "2018-07-13  1329.0  1327.0  1327.0  1327.0  0.00K   -0.46%\n",
       "2018-07-16  1327.5  1327.5  1327.5  1327.5  0.00K   -0.11%\n",
       "2018-07-17  1314.6  1320.0  1320.0  1320.0  0.03K   -0.97%"
      ]
     },
     "execution_count": 6,
     "metadata": {},
     "output_type": "execute_result"
    }
   ],
   "source": [
    "df_test = df_working.iloc[size:]\n",
    "df_test.head()"
   ]
  },
  {
   "cell_type": "markdown",
   "metadata": {},
   "source": [
    "#### Checking if the dataset comes from a stationary process!"
   ]
  },
  {
   "cell_type": "code",
   "execution_count": 7,
   "metadata": {},
   "outputs": [
    {
     "data": {
      "text/plain": [
       "(-1.049540448968919,\n",
       " 0.7347697335392592,\n",
       " 9,\n",
       " 4919,\n",
       " {'1%': -3.431680090621068,\n",
       "  '5%': -2.8621277540961243,\n",
       "  '10%': -2.5670828625840674},\n",
       " 42003.429472152646)"
      ]
     },
     "execution_count": 7,
     "metadata": {},
     "output_type": "execute_result"
    }
   ],
   "source": [
    "# AD Fuller test\n",
    "sts.adfuller(df_working.Price)"
   ]
  },
  {
   "cell_type": "markdown",
   "metadata": {},
   "source": [
    "##### from the above AD Fuller test, we see that the t-statistic value : -0.804 is significantly greater than the all the threshold given below i.e. 1%,5% and 10%, therefore we dont find sufficient evidence of stationary in the dataset. Also, from the p-value which is associated with t-statistics is 0.81 in our case, suggests that there is 81% chance of not rejecting the null hypothesis, so we can confirm if the data is stationary or not! and the next number which is lag: 26,it represents that it used 26 lags in regression when determining the t-statistics and it suggests us that there is some autocorrelation going on back 9 periods.In the next line the number 4973 is the number of observations used in the analysis and both number of lags and number of observations should add up to the total number of datapoints in the dataset. The last number estimates the maximized information criteria provided there is some apparent autocorrelation. The lower the value, the easier it is to make prediction for the future."
   ]
  },
  {
   "cell_type": "markdown",
   "metadata": {},
   "source": [
    "### Seasonal Decomposition"
   ]
  },
  {
   "cell_type": "code",
   "execution_count": 8,
   "metadata": {},
   "outputs": [
    {
     "data": {
      "image/png": "[encoded data removed]",
      "text/plain": [
       "<Figure size 648x504 with 4 Axes>"
      ]
     },
     "metadata": {},
     "output_type": "display_data"
    }
   ],
   "source": [
    "plt.rcParams['figure.figsize'] = [9.0,7.0]\n",
    "additive_s_decomp = seasonal_decompose(df_working.Price, model=\"additive\", period = 2)\n",
    "additive_s_decomp.plot()\n",
    "plt.show()"
   ]
  },
  {
   "cell_type": "code",
   "execution_count": 9,
   "metadata": {},
   "outputs": [
    {
     "data": {
      "image/png": "[encoded data removed]",
      "text/plain": [
       "<Figure size 648x504 with 4 Axes>"
      ]
     },
     "metadata": {},
     "output_type": "display_data"
    }
   ],
   "source": [
    "additive_s_decomp = seasonal_decompose(df_working.Price, model=\"multiplicative\", period = 2)\n",
    "additive_s_decomp.plot()\n",
    "plt.show()"
   ]
  },
  {
   "cell_type": "markdown",
   "metadata": {},
   "source": [
    "#### checking the autocorrelation in the dataset"
   ]
  },
  {
   "cell_type": "code",
   "execution_count": 10,
   "metadata": {},
   "outputs": [
    {
     "data": {
      "image/png": "[encoded data removed]",
      "text/plain": [
       "<Figure size 648x504 with 1 Axes>"
      ]
     },
     "metadata": {},
     "output_type": "display_data"
    }
   ],
   "source": [
    "sgt.plot_acf(df_working.Price, lags = 100, zero = False)\n",
    "plt.title('ACF_Gold_Closed_Price',size = 20)\n",
    "plt.show()"
   ]
  },
  {
   "cell_type": "markdown",
   "metadata": {},
   "source": [
    "#### the the above plot we can conclude that the autocorrelation barely diminishes as the lag increases. This, in turn, suggests that prices even a month back can still serve as a decent estimate!"
   ]
  },
  {
   "cell_type": "markdown",
   "metadata": {},
   "source": [
    "### Partial AutoCorrelation Plot"
   ]
  },
  {
   "cell_type": "code",
   "execution_count": 11,
   "metadata": {},
   "outputs": [
    {
     "data": {
      "image/png": "[encoded data removed]",
      "text/plain": [
       "<Figure size 648x504 with 1 Axes>"
      ]
     },
     "metadata": {},
     "output_type": "display_data"
    }
   ],
   "source": [
    "sgt.plot_pacf(df_working.Price, lags = 40, zero = False, method = ('ols'))\n",
    "plt.title('PACF_Gold_Close_Price', size = 24)\n",
    "plt.show()"
   ]
  },
  {
   "cell_type": "markdown",
   "metadata": {},
   "source": [
    "### Models:\n",
    "\n",
    "#### AR Model"
   ]
  },
  {
   "cell_type": "code",
   "execution_count": 12,
   "metadata": {},
   "outputs": [
    {
     "name": "stdout",
     "output_type": "stream",
     "text": [
      "                            AutoReg Model Results                             \n",
      "==============================================================================\n",
      "Dep. Variable:                  Price   No. Observations:                 3943\n",
      "Model:                     AutoReg(1)   Log Likelihood              -16881.402\n",
      "Method:               Conditional MLE   S.D. of innovations             17.523\n",
      "Date:                Thu, 21 Jul 2022   AIC                          33768.804\n",
      "Time:                        17:50:58   BIC                          33787.642\n",
      "Sample:                             1   HQIC                         33775.487\n",
      "                                 3943                                         \n",
      "==============================================================================\n",
      "                 coef    std err          z      P>|z|      [0.025      0.975]\n",
      "------------------------------------------------------------------------------\n",
      "const          1.4293      0.746      1.915      0.055      -0.034       2.892\n",
      "Price.L1       0.9989      0.001   1517.630      0.000       0.998       1.000\n",
      "                                    Roots                                    \n",
      "=============================================================================\n",
      "                  Real          Imaginary           Modulus         Frequency\n",
      "-----------------------------------------------------------------------------\n",
      "AR.1            1.0011           +0.0000j            1.0011            0.0000\n",
      "-----------------------------------------------------------------------------\n"
     ]
    },
    {
     "name": "stderr",
     "output_type": "stream",
     "text": [
      "c:\\Users\\Asus\\anaconda3\\envs\\deepL\\lib\\site-packages\\statsmodels\\tsa\\base\\tsa_model.py:471: ValueWarning: A date index has been provided, but it has no associated frequency information and so will be ignored when e.g. forecasting.\n",
      "  self._init_dates(dates, freq)\n"
     ]
    }
   ],
   "source": [
    "model_AR = AutoReg(df_train.Price, 1)\n",
    "results_AR = model_AR.fit()\n",
    "print(results_AR.summary())"
   ]
  },
  {
   "cell_type": "code",
   "execution_count": 13,
   "metadata": {},
   "outputs": [
    {
     "name": "stdout",
     "output_type": "stream",
     "text": [
      "                            AutoReg Model Results                             \n",
      "==============================================================================\n",
      "Dep. Variable:                  Price   No. Observations:                 3943\n",
      "Model:                     AutoReg(6)   Log Likelihood              -16766.398\n",
      "Method:               Conditional MLE   S.D. of innovations             17.111\n",
      "Date:                Thu, 21 Jul 2022   AIC                          33548.796\n",
      "Time:                        17:50:58   BIC                          33599.022\n",
      "Sample:                             6   HQIC                         33566.614\n",
      "                                 3943                                         \n",
      "==============================================================================\n",
      "                 coef    std err          z      P>|z|      [0.025      0.975]\n",
      "------------------------------------------------------------------------------\n",
      "const          1.3539      0.730      1.853      0.064      -0.078       2.786\n",
      "Price.L1       0.8442      0.016     53.032      0.000       0.813       0.875\n",
      "Price.L2      -0.0029      0.021     -0.138      0.890      -0.044       0.038\n",
      "Price.L3       0.1304      0.021      6.288      0.000       0.090       0.171\n",
      "Price.L4      -0.0473      0.021     -2.276      0.023      -0.088      -0.007\n",
      "Price.L5       0.1234      0.021      5.905      0.000       0.082       0.164\n",
      "Price.L6      -0.0489      0.016     -3.054      0.002      -0.080      -0.018\n",
      "                                    Roots                                    \n",
      "=============================================================================\n",
      "                  Real          Imaginary           Modulus         Frequency\n",
      "-----------------------------------------------------------------------------\n",
      "AR.1            1.0007           -0.0000j            1.0007           -0.0000\n",
      "AR.2           -1.1917           -1.0679j            1.6001           -0.3837\n",
      "AR.3           -1.1917           +1.0679j            1.6001            0.3837\n",
      "AR.4            0.5993           -1.6089j            1.7169           -0.1933\n",
      "AR.5            0.5993           +1.6089j            1.7169            0.1933\n",
      "AR.6            2.7091           -0.0000j            2.7091           -0.0000\n",
      "-----------------------------------------------------------------------------\n"
     ]
    },
    {
     "name": "stderr",
     "output_type": "stream",
     "text": [
      "c:\\Users\\Asus\\anaconda3\\envs\\deepL\\lib\\site-packages\\statsmodels\\tsa\\base\\tsa_model.py:471: ValueWarning: A date index has been provided, but it has no associated frequency information and so will be ignored when e.g. forecasting.\n",
      "  self._init_dates(dates, freq)\n"
     ]
    }
   ],
   "source": [
    "model_AR_5 = AutoReg(df_train.Price, 6)\n",
    "results_AR_5 = model_AR_5.fit()\n",
    "print(results_AR_5.summary())"
   ]
  },
  {
   "cell_type": "markdown",
   "metadata": {},
   "source": [
    "#### Loglikely ratio test"
   ]
  },
  {
   "cell_type": "code",
   "execution_count": 14,
   "metadata": {},
   "outputs": [],
   "source": [
    "def LLR(mod1, mod2,DF):\n",
    "    L1 = mod1.fit().llf\n",
    "    L2 = mod2.fit().llf\n",
    "    LR = (2*(L2-L1))\n",
    "    p = chi2.sf(LR, DF).round(3)\n",
    "    return p"
   ]
  },
  {
   "cell_type": "code",
   "execution_count": 15,
   "metadata": {},
   "outputs": [
    {
     "data": {
      "text/plain": [
       "0.0"
      ]
     },
     "execution_count": 15,
     "metadata": {},
     "output_type": "execute_result"
    }
   ],
   "source": [
    "LLR(model_AR, model_AR_5, DF = 1)"
   ]
  },
  {
   "cell_type": "markdown",
   "metadata": {},
   "source": [
    "### Lets create percentage change in the closing price out of Price col (if the price has increased from the previous day, then the return will be positive else its negative), we do this to convert the timeseries from non-stationary to stationary process."
   ]
  },
  {
   "cell_type": "code",
   "execution_count": 16,
   "metadata": {},
   "outputs": [
    {
     "name": "stderr",
     "output_type": "stream",
     "text": [
      "C:\\Users\\Asus\\AppData\\Local\\Temp\\ipykernel_8780\\3036573149.py:1: SettingWithCopyWarning: \n",
      "A value is trying to be set on a copy of a slice from a DataFrame.\n",
      "Try using .loc[row_indexer,col_indexer] = value instead\n",
      "\n",
      "See the caveats in the documentation: https://pandas.pydata.org/pandas-docs/stable/user_guide/indexing.html#returning-a-view-versus-a-copy\n",
      "  df_train['Percentage_Change_Close_Price'] = df_train.Price.pct_change(1).mul(100)\n"
     ]
    }
   ],
   "source": [
    "df_train['Percentage_Change_Close_Price'] = df_train.Price.pct_change(1).mul(100)\n",
    "df_train = df_train.iloc[1:] # removing the first row of the df_train dataframe as when we calculate Close_Price_% , we will get null values in the first row."
   ]
  },
  {
   "cell_type": "code",
   "execution_count": 17,
   "metadata": {},
   "outputs": [
    {
     "data": {
      "text/html": [
       "<div>\n",
       "<style scoped>\n",
       "    .dataframe tbody tr th:only-of-type {\n",
       "        vertical-align: middle;\n",
       "    }\n",
       "\n",
       "    .dataframe tbody tr th {\n",
       "        vertical-align: top;\n",
       "    }\n",
       "\n",
       "    .dataframe thead th {\n",
       "        text-align: right;\n",
       "    }\n",
       "</style>\n",
       "<table border=\"1\" class=\"dataframe\">\n",
       "  <thead>\n",
       "    <tr style=\"text-align: right;\">\n",
       "      <th></th>\n",
       "      <th>Price</th>\n",
       "      <th>Open</th>\n",
       "      <th>High</th>\n",
       "      <th>Low</th>\n",
       "      <th>Vol.</th>\n",
       "      <th>Change %</th>\n",
       "      <th>Percentage_Change_Close_Price</th>\n",
       "    </tr>\n",
       "    <tr>\n",
       "      <th>Date</th>\n",
       "      <th></th>\n",
       "      <th></th>\n",
       "      <th></th>\n",
       "      <th></th>\n",
       "      <th></th>\n",
       "      <th></th>\n",
       "      <th></th>\n",
       "    </tr>\n",
       "  </thead>\n",
       "  <tbody>\n",
       "    <tr>\n",
       "      <th>2003-02-03</th>\n",
       "      <td>370.8</td>\n",
       "      <td>368.0</td>\n",
       "      <td>372.0</td>\n",
       "      <td>368.0</td>\n",
       "      <td>0.82K</td>\n",
       "      <td>0.68%</td>\n",
       "      <td>0.678794</td>\n",
       "    </tr>\n",
       "    <tr>\n",
       "      <th>2003-02-04</th>\n",
       "      <td>379.0</td>\n",
       "      <td>371.4</td>\n",
       "      <td>379.5</td>\n",
       "      <td>371.2</td>\n",
       "      <td>1.36K</td>\n",
       "      <td>2.21%</td>\n",
       "      <td>2.211435</td>\n",
       "    </tr>\n",
       "    <tr>\n",
       "      <th>2003-02-05</th>\n",
       "      <td>376.4</td>\n",
       "      <td>379.0</td>\n",
       "      <td>388.9</td>\n",
       "      <td>374.0</td>\n",
       "      <td>0.83K</td>\n",
       "      <td>-0.69%</td>\n",
       "      <td>-0.686016</td>\n",
       "    </tr>\n",
       "    <tr>\n",
       "      <th>2003-02-06</th>\n",
       "      <td>370.1</td>\n",
       "      <td>370.0</td>\n",
       "      <td>377.0</td>\n",
       "      <td>368.4</td>\n",
       "      <td>0.73K</td>\n",
       "      <td>-1.67%</td>\n",
       "      <td>-1.673751</td>\n",
       "    </tr>\n",
       "    <tr>\n",
       "      <th>2003-02-07</th>\n",
       "      <td>369.9</td>\n",
       "      <td>370.5</td>\n",
       "      <td>374.5</td>\n",
       "      <td>367.5</td>\n",
       "      <td>0.18K</td>\n",
       "      <td>-0.05%</td>\n",
       "      <td>-0.054039</td>\n",
       "    </tr>\n",
       "  </tbody>\n",
       "</table>\n",
       "</div>"
      ],
      "text/plain": [
       "            Price   Open   High    Low   Vol. Change %  \\\n",
       "Date                                                     \n",
       "2003-02-03  370.8  368.0  372.0  368.0  0.82K    0.68%   \n",
       "2003-02-04  379.0  371.4  379.5  371.2  1.36K    2.21%   \n",
       "2003-02-05  376.4  379.0  388.9  374.0  0.83K   -0.69%   \n",
       "2003-02-06  370.1  370.0  377.0  368.4  0.73K   -1.67%   \n",
       "2003-02-07  369.9  370.5  374.5  367.5  0.18K   -0.05%   \n",
       "\n",
       "            Percentage_Change_Close_Price  \n",
       "Date                                       \n",
       "2003-02-03                       0.678794  \n",
       "2003-02-04                       2.211435  \n",
       "2003-02-05                      -0.686016  \n",
       "2003-02-06                      -1.673751  \n",
       "2003-02-07                      -0.054039  "
      ]
     },
     "execution_count": 17,
     "metadata": {},
     "output_type": "execute_result"
    }
   ],
   "source": [
    "df_train.head()"
   ]
  },
  {
   "cell_type": "code",
   "execution_count": 18,
   "metadata": {},
   "outputs": [
    {
     "data": {
      "text/plain": [
       "(-27.37575403716489,\n",
       " 0.0,\n",
       " 5,\n",
       " 3936,\n",
       " {'1%': -3.432012492343266,\n",
       "  '5%': -2.8622745981442903,\n",
       "  '10%': -2.5671610349768037},\n",
       " 14089.985770509333)"
      ]
     },
     "execution_count": 18,
     "metadata": {},
     "output_type": "execute_result"
    }
   ],
   "source": [
    "sts.adfuller(df_train.Percentage_Change_Close_Price)"
   ]
  },
  {
   "cell_type": "markdown",
   "metadata": {},
   "source": [
    "#### from the above df test we can state that the time series comes from stationary process (t-stat : -27.37 falls really far from the 1% significance value) "
   ]
  },
  {
   "cell_type": "markdown",
   "metadata": {},
   "source": [
    "# ___\n",
    "#### lets computer aut-correlation and partial auto-correlation of the newly generated stationary time series dataset \n",
    "\n",
    "#### ACF and PACF of Percentage_Change_Close_Price"
   ]
  },
  {
   "cell_type": "code",
   "execution_count": 19,
   "metadata": {},
   "outputs": [
    {
     "data": {
      "image/png": "[encoded data removed]",
      "text/plain": [
       "<Figure size 648x504 with 1 Axes>"
      ]
     },
     "metadata": {},
     "output_type": "display_data"
    }
   ],
   "source": [
    "sgt.plot_acf(df_train.Percentage_Change_Close_Price, lags = 40, zero = False)\n",
    "plt.ylim(-0.15,0.15)\n",
    "plt.title('ACF of Percentage_Change_Close_Price of Gold', size = 24)\n",
    "plt.show()"
   ]
  },
  {
   "cell_type": "code",
   "execution_count": 20,
   "metadata": {},
   "outputs": [
    {
     "data": {
      "image/png": "[encoded data removed]",
      "text/plain": [
       "<Figure size 648x504 with 1 Axes>"
      ]
     },
     "metadata": {},
     "output_type": "display_data"
    }
   ],
   "source": [
    "sgt.plot_pacf(df_train.Percentage_Change_Close_Price, lags = 40, zero = False, method = ('ols'))\n",
    "plt.ylim(-0.15,0.15)\n",
    "plt.title('PACF of Percentage_Change_Close_Price of Gold', size = 24)\n",
    "plt.show()"
   ]
  },
  {
   "cell_type": "markdown",
   "metadata": {},
   "source": [
    "#### from the PACF plot we see that higher lags has very less significance on the new price formed in the marker and its clearly seen that first few lags (upto 5) have more significance than the higher ones shaded in the blue region."
   ]
  },
  {
   "cell_type": "markdown",
   "metadata": {},
   "source": [
    "# _____\n",
    "### Building AR model with the new stationary data"
   ]
  },
  {
   "cell_type": "code",
   "execution_count": 21,
   "metadata": {},
   "outputs": [
    {
     "name": "stdout",
     "output_type": "stream",
     "text": [
      "                                  AutoReg Model Results                                  \n",
      "=========================================================================================\n",
      "Dep. Variable:     Percentage_Change_Close_Price   No. Observations:                 3942\n",
      "Model:                                AutoReg(5)   Log Likelihood               -7087.972\n",
      "Method:                          Conditional MLE   S.D. of innovations              1.464\n",
      "Date:                           Thu, 21 Jul 2022   AIC                          14189.944\n",
      "Time:                                   17:50:59   BIC                          14233.892\n",
      "Sample:                                        5   HQIC                         14205.535\n",
      "                                            3942                                         \n",
      "====================================================================================================\n",
      "                                       coef    std err          z      P>|z|      [0.025      0.975]\n",
      "----------------------------------------------------------------------------------------------------\n",
      "const                                0.0545      0.023      2.330      0.020       0.009       0.100\n",
      "Percentage_Change_Close_Price.L1    -0.1236      0.016     -7.766      0.000      -0.155      -0.092\n",
      "Percentage_Change_Close_Price.L2    -0.1230      0.016     -7.678      0.000      -0.154      -0.092\n",
      "Percentage_Change_Close_Price.L3    -0.0072      0.016     -0.446      0.655      -0.039       0.024\n",
      "Percentage_Change_Close_Price.L4    -0.0482      0.016     -3.002      0.003      -0.080      -0.017\n",
      "Percentage_Change_Close_Price.L5     0.0553      0.016      3.460      0.001       0.024       0.087\n",
      "                                    Roots                                    \n",
      "=============================================================================\n",
      "                  Real          Imaginary           Modulus         Frequency\n",
      "-----------------------------------------------------------------------------\n",
      "AR.1           -1.2345           -1.0677j            1.6322           -0.3865\n",
      "AR.2           -1.2345           +1.0677j            1.6322            0.3865\n",
      "AR.3            0.5417           -1.6476j            1.7343           -0.1994\n",
      "AR.4            0.5417           +1.6476j            1.7343            0.1994\n",
      "AR.5            2.2569           -0.0000j            2.2569           -0.0000\n",
      "-----------------------------------------------------------------------------\n"
     ]
    },
    {
     "name": "stderr",
     "output_type": "stream",
     "text": [
      "c:\\Users\\Asus\\anaconda3\\envs\\deepL\\lib\\site-packages\\statsmodels\\tsa\\base\\tsa_model.py:471: ValueWarning: A date index has been provided, but it has no associated frequency information and so will be ignored when e.g. forecasting.\n",
      "  self._init_dates(dates, freq)\n"
     ]
    }
   ],
   "source": [
    "model_AR_ch = AutoReg(df_train.Percentage_Change_Close_Price, lags = 5)\n",
    "result_model_AR_ch = model_AR_ch.fit()\n",
    "print(result_model_AR_ch.summary())"
   ]
  },
  {
   "cell_type": "markdown",
   "metadata": {},
   "source": [
    "#### Normalizing 'Close' price values"
   ]
  },
  {
   "cell_type": "code",
   "execution_count": 22,
   "metadata": {},
   "outputs": [],
   "source": [
    "df_train['Normalize_Close'] = df_train.Price.div(df_train.Price.iloc[0]).mul(100)"
   ]
  },
  {
   "cell_type": "code",
   "execution_count": 23,
   "metadata": {},
   "outputs": [
    {
     "data": {
      "text/html": [
       "<div>\n",
       "<style scoped>\n",
       "    .dataframe tbody tr th:only-of-type {\n",
       "        vertical-align: middle;\n",
       "    }\n",
       "\n",
       "    .dataframe tbody tr th {\n",
       "        vertical-align: top;\n",
       "    }\n",
       "\n",
       "    .dataframe thead th {\n",
       "        text-align: right;\n",
       "    }\n",
       "</style>\n",
       "<table border=\"1\" class=\"dataframe\">\n",
       "  <thead>\n",
       "    <tr style=\"text-align: right;\">\n",
       "      <th></th>\n",
       "      <th>Price</th>\n",
       "      <th>Open</th>\n",
       "      <th>High</th>\n",
       "      <th>Low</th>\n",
       "      <th>Vol.</th>\n",
       "      <th>Change %</th>\n",
       "      <th>Percentage_Change_Close_Price</th>\n",
       "      <th>Normalize_Close</th>\n",
       "    </tr>\n",
       "    <tr>\n",
       "      <th>Date</th>\n",
       "      <th></th>\n",
       "      <th></th>\n",
       "      <th></th>\n",
       "      <th></th>\n",
       "      <th></th>\n",
       "      <th></th>\n",
       "      <th></th>\n",
       "      <th></th>\n",
       "    </tr>\n",
       "  </thead>\n",
       "  <tbody>\n",
       "    <tr>\n",
       "      <th>2003-02-03</th>\n",
       "      <td>370.8</td>\n",
       "      <td>368.0</td>\n",
       "      <td>372.0</td>\n",
       "      <td>368.0</td>\n",
       "      <td>0.82K</td>\n",
       "      <td>0.68%</td>\n",
       "      <td>0.678794</td>\n",
       "      <td>100.000000</td>\n",
       "    </tr>\n",
       "    <tr>\n",
       "      <th>2003-02-04</th>\n",
       "      <td>379.0</td>\n",
       "      <td>371.4</td>\n",
       "      <td>379.5</td>\n",
       "      <td>371.2</td>\n",
       "      <td>1.36K</td>\n",
       "      <td>2.21%</td>\n",
       "      <td>2.211435</td>\n",
       "      <td>102.211435</td>\n",
       "    </tr>\n",
       "    <tr>\n",
       "      <th>2003-02-05</th>\n",
       "      <td>376.4</td>\n",
       "      <td>379.0</td>\n",
       "      <td>388.9</td>\n",
       "      <td>374.0</td>\n",
       "      <td>0.83K</td>\n",
       "      <td>-0.69%</td>\n",
       "      <td>-0.686016</td>\n",
       "      <td>101.510248</td>\n",
       "    </tr>\n",
       "    <tr>\n",
       "      <th>2003-02-06</th>\n",
       "      <td>370.1</td>\n",
       "      <td>370.0</td>\n",
       "      <td>377.0</td>\n",
       "      <td>368.4</td>\n",
       "      <td>0.73K</td>\n",
       "      <td>-1.67%</td>\n",
       "      <td>-1.673751</td>\n",
       "      <td>99.811219</td>\n",
       "    </tr>\n",
       "    <tr>\n",
       "      <th>2003-02-07</th>\n",
       "      <td>369.9</td>\n",
       "      <td>370.5</td>\n",
       "      <td>374.5</td>\n",
       "      <td>367.5</td>\n",
       "      <td>0.18K</td>\n",
       "      <td>-0.05%</td>\n",
       "      <td>-0.054039</td>\n",
       "      <td>99.757282</td>\n",
       "    </tr>\n",
       "  </tbody>\n",
       "</table>\n",
       "</div>"
      ],
      "text/plain": [
       "            Price   Open   High    Low   Vol. Change %  \\\n",
       "Date                                                     \n",
       "2003-02-03  370.8  368.0  372.0  368.0  0.82K    0.68%   \n",
       "2003-02-04  379.0  371.4  379.5  371.2  1.36K    2.21%   \n",
       "2003-02-05  376.4  379.0  388.9  374.0  0.83K   -0.69%   \n",
       "2003-02-06  370.1  370.0  377.0  368.4  0.73K   -1.67%   \n",
       "2003-02-07  369.9  370.5  374.5  367.5  0.18K   -0.05%   \n",
       "\n",
       "            Percentage_Change_Close_Price  Normalize_Close  \n",
       "Date                                                        \n",
       "2003-02-03                       0.678794       100.000000  \n",
       "2003-02-04                       2.211435       102.211435  \n",
       "2003-02-05                      -0.686016       101.510248  \n",
       "2003-02-06                      -1.673751        99.811219  \n",
       "2003-02-07                      -0.054039        99.757282  "
      ]
     },
     "execution_count": 23,
     "metadata": {},
     "output_type": "execute_result"
    }
   ],
   "source": [
    "df_train.head()"
   ]
  },
  {
   "cell_type": "code",
   "execution_count": 24,
   "metadata": {},
   "outputs": [
    {
     "data": {
      "text/plain": [
       "(-1.5481609603105744,\n",
       " 0.5095666896514159,\n",
       " 9,\n",
       " 3932,\n",
       " {'1%': -3.432014184692783,\n",
       "  '5%': -2.8622753457262213,\n",
       "  '10%': -2.5671614329589802},\n",
       " 23090.976207245898)"
      ]
     },
     "execution_count": 24,
     "metadata": {},
     "output_type": "execute_result"
    }
   ],
   "source": [
    "sts.adfuller(df_train.Normalize_Close)"
   ]
  },
  {
   "cell_type": "markdown",
   "metadata": {},
   "source": [
    "#### from the above adfuller test on Normalized dataset of closed porces dint not yield a stationary data. Therefore we cannot use AR model with normalized prices."
   ]
  },
  {
   "cell_type": "markdown",
   "metadata": {},
   "source": [
    "#### Normalizing 'Percentage_Change_Close_Price\t'  values"
   ]
  },
  {
   "cell_type": "code",
   "execution_count": 25,
   "metadata": {},
   "outputs": [],
   "source": [
    "df_train['Normalize_Close_Percentage_Change'] = df_train.Percentage_Change_Close_Price.div(df_train.Percentage_Change_Close_Price.iloc[0]).mul(100)"
   ]
  },
  {
   "cell_type": "code",
   "execution_count": 26,
   "metadata": {},
   "outputs": [
    {
     "data": {
      "text/html": [
       "<div>\n",
       "<style scoped>\n",
       "    .dataframe tbody tr th:only-of-type {\n",
       "        vertical-align: middle;\n",
       "    }\n",
       "\n",
       "    .dataframe tbody tr th {\n",
       "        vertical-align: top;\n",
       "    }\n",
       "\n",
       "    .dataframe thead th {\n",
       "        text-align: right;\n",
       "    }\n",
       "</style>\n",
       "<table border=\"1\" class=\"dataframe\">\n",
       "  <thead>\n",
       "    <tr style=\"text-align: right;\">\n",
       "      <th></th>\n",
       "      <th>Price</th>\n",
       "      <th>Open</th>\n",
       "      <th>High</th>\n",
       "      <th>Low</th>\n",
       "      <th>Vol.</th>\n",
       "      <th>Change %</th>\n",
       "      <th>Percentage_Change_Close_Price</th>\n",
       "      <th>Normalize_Close</th>\n",
       "      <th>Normalize_Close_Percentage_Change</th>\n",
       "    </tr>\n",
       "    <tr>\n",
       "      <th>Date</th>\n",
       "      <th></th>\n",
       "      <th></th>\n",
       "      <th></th>\n",
       "      <th></th>\n",
       "      <th></th>\n",
       "      <th></th>\n",
       "      <th></th>\n",
       "      <th></th>\n",
       "      <th></th>\n",
       "    </tr>\n",
       "  </thead>\n",
       "  <tbody>\n",
       "    <tr>\n",
       "      <th>2003-02-03</th>\n",
       "      <td>370.8</td>\n",
       "      <td>368.0</td>\n",
       "      <td>372.0</td>\n",
       "      <td>368.0</td>\n",
       "      <td>0.82K</td>\n",
       "      <td>0.68%</td>\n",
       "      <td>0.678794</td>\n",
       "      <td>100.000000</td>\n",
       "      <td>100.000000</td>\n",
       "    </tr>\n",
       "    <tr>\n",
       "      <th>2003-02-04</th>\n",
       "      <td>379.0</td>\n",
       "      <td>371.4</td>\n",
       "      <td>379.5</td>\n",
       "      <td>371.2</td>\n",
       "      <td>1.36K</td>\n",
       "      <td>2.21%</td>\n",
       "      <td>2.211435</td>\n",
       "      <td>102.211435</td>\n",
       "      <td>325.788565</td>\n",
       "    </tr>\n",
       "    <tr>\n",
       "      <th>2003-02-05</th>\n",
       "      <td>376.4</td>\n",
       "      <td>379.0</td>\n",
       "      <td>388.9</td>\n",
       "      <td>374.0</td>\n",
       "      <td>0.83K</td>\n",
       "      <td>-0.69%</td>\n",
       "      <td>-0.686016</td>\n",
       "      <td>101.510248</td>\n",
       "      <td>-101.063852</td>\n",
       "    </tr>\n",
       "    <tr>\n",
       "      <th>2003-02-06</th>\n",
       "      <td>370.1</td>\n",
       "      <td>370.0</td>\n",
       "      <td>377.0</td>\n",
       "      <td>368.4</td>\n",
       "      <td>0.73K</td>\n",
       "      <td>-1.67%</td>\n",
       "      <td>-1.673751</td>\n",
       "      <td>99.811219</td>\n",
       "      <td>-246.577046</td>\n",
       "    </tr>\n",
       "    <tr>\n",
       "      <th>2003-02-07</th>\n",
       "      <td>369.9</td>\n",
       "      <td>370.5</td>\n",
       "      <td>374.5</td>\n",
       "      <td>367.5</td>\n",
       "      <td>0.18K</td>\n",
       "      <td>-0.05%</td>\n",
       "      <td>-0.054039</td>\n",
       "      <td>99.757282</td>\n",
       "      <td>-7.961092</td>\n",
       "    </tr>\n",
       "  </tbody>\n",
       "</table>\n",
       "</div>"
      ],
      "text/plain": [
       "            Price   Open   High    Low   Vol. Change %  \\\n",
       "Date                                                     \n",
       "2003-02-03  370.8  368.0  372.0  368.0  0.82K    0.68%   \n",
       "2003-02-04  379.0  371.4  379.5  371.2  1.36K    2.21%   \n",
       "2003-02-05  376.4  379.0  388.9  374.0  0.83K   -0.69%   \n",
       "2003-02-06  370.1  370.0  377.0  368.4  0.73K   -1.67%   \n",
       "2003-02-07  369.9  370.5  374.5  367.5  0.18K   -0.05%   \n",
       "\n",
       "            Percentage_Change_Close_Price  Normalize_Close  \\\n",
       "Date                                                         \n",
       "2003-02-03                       0.678794       100.000000   \n",
       "2003-02-04                       2.211435       102.211435   \n",
       "2003-02-05                      -0.686016       101.510248   \n",
       "2003-02-06                      -1.673751        99.811219   \n",
       "2003-02-07                      -0.054039        99.757282   \n",
       "\n",
       "            Normalize_Close_Percentage_Change  \n",
       "Date                                           \n",
       "2003-02-03                         100.000000  \n",
       "2003-02-04                         325.788565  \n",
       "2003-02-05                        -101.063852  \n",
       "2003-02-06                        -246.577046  \n",
       "2003-02-07                          -7.961092  "
      ]
     },
     "execution_count": 26,
     "metadata": {},
     "output_type": "execute_result"
    }
   ],
   "source": [
    "df_train.head()"
   ]
  },
  {
   "cell_type": "code",
   "execution_count": 27,
   "metadata": {},
   "outputs": [
    {
     "data": {
      "text/plain": [
       "(-27.375754037164885,\n",
       " 0.0,\n",
       " 5,\n",
       " 3936,\n",
       " {'1%': -3.432012492343266,\n",
       "  '5%': -2.8622745981442903,\n",
       "  '10%': -2.5671610349768037},\n",
       " 53132.17322664036)"
      ]
     },
     "execution_count": 27,
     "metadata": {},
     "output_type": "execute_result"
    }
   ],
   "source": [
    "sts.adfuller(df_train.Normalize_Close_Percentage_Change)"
   ]
  },
  {
   "cell_type": "markdown",
   "metadata": {},
   "source": [
    "From the above stats we can say that this data is stationary even after normalizing the percentage change of close price."
   ]
  },
  {
   "cell_type": "markdown",
   "metadata": {},
   "source": [
    "#### AR Model for Normalize Value"
   ]
  },
  {
   "cell_type": "code",
   "execution_count": 28,
   "metadata": {},
   "outputs": [
    {
     "name": "stdout",
     "output_type": "stream",
     "text": [
      "                                    AutoReg Model Results                                    \n",
      "=============================================================================================\n",
      "Dep. Variable:     Normalize_Close_Percentage_Change   No. Observations:                 3942\n",
      "Model:                                   AutoReg(10)   Log Likelihood              -26706.404\n",
      "Method:                              Conditional MLE   S.D. of innovations            215.536\n",
      "Date:                               Thu, 21 Jul 2022   AIC                          53436.808\n",
      "Time:                                       17:51:00   BIC                          53512.131\n",
      "Sample:                                           10   HQIC                         53463.531\n",
      "                                                3942                                         \n",
      "=========================================================================================================\n",
      "                                            coef    std err          z      P>|z|      [0.025      0.975]\n",
      "---------------------------------------------------------------------------------------------------------\n",
      "const                                     8.5043      3.460      2.458      0.014       1.722      15.287\n",
      "Normalize_Close_Percentage_Change.L1     -0.1222      0.016     -7.662      0.000      -0.153      -0.091\n",
      "Normalize_Close_Percentage_Change.L2     -0.1256      0.016     -7.823      0.000      -0.157      -0.094\n",
      "Normalize_Close_Percentage_Change.L3     -0.0073      0.016     -0.453      0.651      -0.039       0.024\n",
      "Normalize_Close_Percentage_Change.L4     -0.0533      0.016     -3.285      0.001      -0.085      -0.021\n",
      "Normalize_Close_Percentage_Change.L5      0.0527      0.016      3.241      0.001       0.021       0.085\n",
      "Normalize_Close_Percentage_Change.L6     -0.0263      0.016     -1.620      0.105      -0.058       0.006\n",
      "Normalize_Close_Percentage_Change.L7     -0.0048      0.016     -0.296      0.767      -0.037       0.027\n",
      "Normalize_Close_Percentage_Change.L8     -0.0068      0.016     -0.416      0.677      -0.039       0.025\n",
      "Normalize_Close_Percentage_Change.L9      0.0142      0.016      0.884      0.377      -0.017       0.046\n",
      "Normalize_Close_Percentage_Change.L10    -0.0025      0.016     -0.154      0.878      -0.034       0.029\n",
      "                                    Roots                                     \n",
      "==============================================================================\n",
      "                   Real          Imaginary           Modulus         Frequency\n",
      "------------------------------------------------------------------------------\n",
      "AR.1            -1.3452           -0.6879j            1.5109           -0.4248\n",
      "AR.2            -1.3452           +0.6879j            1.5109            0.4248\n",
      "AR.3            -0.9123           -1.3011j            1.5891           -0.3473\n",
      "AR.4            -0.9123           +1.3011j            1.5891            0.3473\n",
      "AR.5             0.2516           -1.4646j            1.4860           -0.2229\n",
      "AR.6             0.2516           +1.4646j            1.4860            0.2229\n",
      "AR.7             1.3254           -1.1478j            1.7533           -0.1136\n",
      "AR.8             1.3254           +1.1478j            1.7533            0.1136\n",
      "AR.9             2.0277           -0.0000j            2.0277           -0.0000\n",
      "AR.10            5.1126           -0.0000j            5.1126           -0.0000\n",
      "------------------------------------------------------------------------------\n"
     ]
    },
    {
     "name": "stderr",
     "output_type": "stream",
     "text": [
      "c:\\Users\\Asus\\anaconda3\\envs\\deepL\\lib\\site-packages\\statsmodels\\tsa\\base\\tsa_model.py:471: ValueWarning: A date index has been provided, but it has no associated frequency information and so will be ignored when e.g. forecasting.\n",
      "  self._init_dates(dates, freq)\n"
     ]
    }
   ],
   "source": [
    "model_AR_Norm_ch = AutoReg(df_train.Normalize_Close_Percentage_Change, lags = 10)\n",
    "result_model_AR_Norm_ch = model_AR_Norm_ch.fit()\n",
    "print(result_model_AR_Norm_ch.summary())"
   ]
  },
  {
   "cell_type": "markdown",
   "metadata": {},
   "source": [
    "#### Residual Analysis"
   ]
  },
  {
   "cell_type": "code",
   "execution_count": 29,
   "metadata": {},
   "outputs": [],
   "source": [
    "#df_train['residual_price'] = model_AR_Norm_ch.fit().resid"
   ]
  },
  {
   "cell_type": "code",
   "execution_count": 30,
   "metadata": {},
   "outputs": [],
   "source": [
    "#df_train.residual_price.mean()"
   ]
  },
  {
   "cell_type": "code",
   "execution_count": 31,
   "metadata": {},
   "outputs": [],
   "source": [
    "#df_train.residual_price.var()"
   ]
  },
  {
   "cell_type": "code",
   "execution_count": 32,
   "metadata": {},
   "outputs": [],
   "source": [
    "#df_train.head()"
   ]
  },
  {
   "cell_type": "code",
   "execution_count": null,
   "metadata": {},
   "outputs": [],
   "source": []
  }
 ],
 "metadata": {
  "kernelspec": {
   "display_name": "Python 3.10.2 ('deepL')",
   "language": "python",
   "name": "python3"
  },
  "language_info": {
   "codemirror_mode": {
    "name": "ipython",
    "version": 3
   },
   "file_extension": ".py",
   "mimetype": "text/x-python",
   "name": "python",
   "nbconvert_exporter": "python",
   "pygments_lexer": "ipython3",
   "version": "3.10.2"
  },
  "orig_nbformat": 4,
  "vscode": {
   "interpreter": {
    "hash": "b90cab7ea642421f44636989edaf96d86cb1abe354b45ce6eed3b362842c2584"
   }
  }
 },
 "nbformat": 4,
 "nbformat_minor": 2
}
